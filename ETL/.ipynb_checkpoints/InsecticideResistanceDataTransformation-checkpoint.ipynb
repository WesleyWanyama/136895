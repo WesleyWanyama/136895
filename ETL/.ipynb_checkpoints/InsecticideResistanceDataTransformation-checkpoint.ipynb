{
 "cells": [
  {
   "cell_type": "code",
   "execution_count": 2,
   "id": "864eacc8-46a8-47d4-80bc-8f0495735377",
   "metadata": {
    "tags": []
   },
   "outputs": [],
   "source": [
    "#Importing the required libraries\n",
    "import pandas as pd\n",
    "import numpy as np\n",
    "import matplotlib.pyplot as plt"
   ]
  },
  {
   "cell_type": "code",
   "execution_count": 3,
   "id": "9152f28b-7b2a-48a2-9d93-dc552c716a5c",
   "metadata": {
    "tags": []
   },
   "outputs": [],
   "source": [
    "#Loading the dataset\n",
    "df = pd.read_csv(\"data/intensity_concentration.csv\")"
   ]
  },
  {
   "cell_type": "code",
   "execution_count": 4,
   "id": "1e7ebe42-460d-4a35-a253-4febb5a46c4a",
   "metadata": {
    "tags": []
   },
   "outputs": [
    {
     "data": {
      "text/html": [
       "<div>\n",
       "<style scoped>\n",
       "    .dataframe tbody tr th:only-of-type {\n",
       "        vertical-align: middle;\n",
       "    }\n",
       "\n",
       "    .dataframe tbody tr th {\n",
       "        vertical-align: top;\n",
       "    }\n",
       "\n",
       "    .dataframe thead th {\n",
       "        text-align: right;\n",
       "    }\n",
       "</style>\n",
       "<table border=\"1\" class=\"dataframe\">\n",
       "  <thead>\n",
       "    <tr style=\"text-align: right;\">\n",
       "      <th></th>\n",
       "      <th>ID</th>\n",
       "      <th>COUNTRY_NAME</th>\n",
       "      <th>ISO2</th>\n",
       "      <th>ADMIN1</th>\n",
       "      <th>ADMIN2</th>\n",
       "      <th>SITE_NAME</th>\n",
       "      <th>SITE_CODE</th>\n",
       "      <th>LATITUDE</th>\n",
       "      <th>LONGITUDE</th>\n",
       "      <th>TEST_TYPE</th>\n",
       "      <th>...</th>\n",
       "      <th>VECTOR_SPECIES</th>\n",
       "      <th>STAGE_ORIGIN</th>\n",
       "      <th>MOSQUITO_NUMBER</th>\n",
       "      <th>TIME_HOLDING_POSTEXPOSURE</th>\n",
       "      <th>MORTALITY_ADJUSTED</th>\n",
       "      <th>RESISTANCE_INTENSITY</th>\n",
       "      <th>DATA_SOURCE</th>\n",
       "      <th>CITATION</th>\n",
       "      <th>CITATION_URL</th>\n",
       "      <th>DATA_CURATOR</th>\n",
       "    </tr>\n",
       "  </thead>\n",
       "  <tbody>\n",
       "    <tr>\n",
       "      <th>0</th>\n",
       "      <td>IRInt3</td>\n",
       "      <td>Côte d’Ivoire</td>\n",
       "      <td>CI</td>\n",
       "      <td>Agneby-Tiassa</td>\n",
       "      <td>Agboville</td>\n",
       "      <td>Agboville</td>\n",
       "      <td>IRCI5</td>\n",
       "      <td>5.9318</td>\n",
       "      <td>-4.2181</td>\n",
       "      <td>CDC bottle bioassay, adults</td>\n",
       "      <td>...</td>\n",
       "      <td>An. gambiae s.l.</td>\n",
       "      <td>F0_ADULTS_(WILD_COLLECTED)</td>\n",
       "      <td>Not available</td>\n",
       "      <td>30MINS</td>\n",
       "      <td>72.0</td>\n",
       "      <td>High intensity</td>\n",
       "      <td>Centre Suisse de Recherches Scientifiques en C...</td>\n",
       "      <td>Meiwald AE et al. (2020) Reduced long-lasting ...</td>\n",
       "      <td>https://pubmed.ncbi.nlm.nih.gov/33175129/</td>\n",
       "      <td>World Health Organization</td>\n",
       "    </tr>\n",
       "    <tr>\n",
       "      <th>1</th>\n",
       "      <td>IRInt2</td>\n",
       "      <td>Côte d’Ivoire</td>\n",
       "      <td>CI</td>\n",
       "      <td>Agneby-Tiassa</td>\n",
       "      <td>Agboville</td>\n",
       "      <td>Agboville</td>\n",
       "      <td>IRCI5</td>\n",
       "      <td>5.9318</td>\n",
       "      <td>-4.2181</td>\n",
       "      <td>CDC bottle bioassay, adults</td>\n",
       "      <td>...</td>\n",
       "      <td>An. gambiae s.l.</td>\n",
       "      <td>F0_ADULTS_(WILD_COLLECTED)</td>\n",
       "      <td>Not available</td>\n",
       "      <td>30MINS</td>\n",
       "      <td>66.0</td>\n",
       "      <td>Moderate to high intensity</td>\n",
       "      <td>Centre Suisse de Recherches Scientifiques en C...</td>\n",
       "      <td>Meiwald AE et al. (2020) Reduced long-lasting ...</td>\n",
       "      <td>https://pubmed.ncbi.nlm.nih.gov/33175129/</td>\n",
       "      <td>World Health Organization</td>\n",
       "    </tr>\n",
       "    <tr>\n",
       "      <th>2</th>\n",
       "      <td>IRDis63</td>\n",
       "      <td>Côte d’Ivoire</td>\n",
       "      <td>CI</td>\n",
       "      <td>Me</td>\n",
       "      <td>Adzope</td>\n",
       "      <td>Adzope</td>\n",
       "      <td>IRCI4</td>\n",
       "      <td>6.1069</td>\n",
       "      <td>-3.8619</td>\n",
       "      <td>WHO tube test</td>\n",
       "      <td>...</td>\n",
       "      <td>An. gambiae s.l.</td>\n",
       "      <td>F0_ADULTS_(FROM_WILD_LARVAE)</td>\n",
       "      <td>Not available</td>\n",
       "      <td>24HRS</td>\n",
       "      <td>0.0</td>\n",
       "      <td>NaN</td>\n",
       "      <td>Not available</td>\n",
       "      <td>Kouassi B et al.(2020) Susceptibility of Anoph...</td>\n",
       "      <td>https://pubmed.ncbi.nlm.nih.gov/33298071/</td>\n",
       "      <td>World Health Organization</td>\n",
       "    </tr>\n",
       "    <tr>\n",
       "      <th>3</th>\n",
       "      <td>IRInt28</td>\n",
       "      <td>Côte d’Ivoire</td>\n",
       "      <td>CI</td>\n",
       "      <td>Me</td>\n",
       "      <td>Adzope</td>\n",
       "      <td>Adzope</td>\n",
       "      <td>IRCI4</td>\n",
       "      <td>6.1069</td>\n",
       "      <td>-3.8619</td>\n",
       "      <td>WHO tube test</td>\n",
       "      <td>...</td>\n",
       "      <td>An. gambiae s.l.</td>\n",
       "      <td>F0_ADULTS_(FROM_WILD_LARVAE)</td>\n",
       "      <td>Not available</td>\n",
       "      <td>24HRS</td>\n",
       "      <td>54.2</td>\n",
       "      <td>Moderate to high intensity</td>\n",
       "      <td>Not available</td>\n",
       "      <td>Kouassi B et al.(2020) Susceptibility of Anoph...</td>\n",
       "      <td>https://pubmed.ncbi.nlm.nih.gov/33298071/</td>\n",
       "      <td>World Health Organization</td>\n",
       "    </tr>\n",
       "    <tr>\n",
       "      <th>4</th>\n",
       "      <td>IRInt29</td>\n",
       "      <td>Côte d’Ivoire</td>\n",
       "      <td>CI</td>\n",
       "      <td>Me</td>\n",
       "      <td>Adzope</td>\n",
       "      <td>Adzope</td>\n",
       "      <td>IRCI4</td>\n",
       "      <td>6.1069</td>\n",
       "      <td>-3.8619</td>\n",
       "      <td>WHO tube test</td>\n",
       "      <td>...</td>\n",
       "      <td>An. gambiae s.l.</td>\n",
       "      <td>F0_ADULTS_(FROM_WILD_LARVAE)</td>\n",
       "      <td>Not available</td>\n",
       "      <td>24HRS</td>\n",
       "      <td>68.9</td>\n",
       "      <td>High intensity</td>\n",
       "      <td>Not available</td>\n",
       "      <td>Kouassi B et al.(2020) Susceptibility of Anoph...</td>\n",
       "      <td>https://pubmed.ncbi.nlm.nih.gov/33298071/</td>\n",
       "      <td>World Health Organization</td>\n",
       "    </tr>\n",
       "  </tbody>\n",
       "</table>\n",
       "<p>5 rows × 25 columns</p>\n",
       "</div>"
      ],
      "text/plain": [
       "        ID   COUNTRY_NAME ISO2         ADMIN1     ADMIN2  SITE_NAME SITE_CODE  \\\n",
       "0   IRInt3  Côte d’Ivoire   CI  Agneby-Tiassa  Agboville  Agboville     IRCI5   \n",
       "1   IRInt2  Côte d’Ivoire   CI  Agneby-Tiassa  Agboville  Agboville     IRCI5   \n",
       "2  IRDis63  Côte d’Ivoire   CI             Me     Adzope     Adzope     IRCI4   \n",
       "3  IRInt28  Côte d’Ivoire   CI             Me     Adzope     Adzope     IRCI4   \n",
       "4  IRInt29  Côte d’Ivoire   CI             Me     Adzope     Adzope     IRCI4   \n",
       "\n",
       "   LATITUDE  LONGITUDE                    TEST_TYPE  ...    VECTOR_SPECIES  \\\n",
       "0    5.9318    -4.2181  CDC bottle bioassay, adults  ...  An. gambiae s.l.   \n",
       "1    5.9318    -4.2181  CDC bottle bioassay, adults  ...  An. gambiae s.l.   \n",
       "2    6.1069    -3.8619                WHO tube test  ...  An. gambiae s.l.   \n",
       "3    6.1069    -3.8619                WHO tube test  ...  An. gambiae s.l.   \n",
       "4    6.1069    -3.8619                WHO tube test  ...  An. gambiae s.l.   \n",
       "\n",
       "                   STAGE_ORIGIN  MOSQUITO_NUMBER TIME_HOLDING_POSTEXPOSURE  \\\n",
       "0    F0_ADULTS_(WILD_COLLECTED)    Not available                    30MINS   \n",
       "1    F0_ADULTS_(WILD_COLLECTED)    Not available                    30MINS   \n",
       "2  F0_ADULTS_(FROM_WILD_LARVAE)    Not available                     24HRS   \n",
       "3  F0_ADULTS_(FROM_WILD_LARVAE)    Not available                     24HRS   \n",
       "4  F0_ADULTS_(FROM_WILD_LARVAE)    Not available                     24HRS   \n",
       "\n",
       "   MORTALITY_ADJUSTED        RESISTANCE_INTENSITY  \\\n",
       "0                72.0              High intensity   \n",
       "1                66.0  Moderate to high intensity   \n",
       "2                 0.0                         NaN   \n",
       "3                54.2  Moderate to high intensity   \n",
       "4                68.9              High intensity   \n",
       "\n",
       "                                         DATA_SOURCE  \\\n",
       "0  Centre Suisse de Recherches Scientifiques en C...   \n",
       "1  Centre Suisse de Recherches Scientifiques en C...   \n",
       "2                                      Not available   \n",
       "3                                      Not available   \n",
       "4                                      Not available   \n",
       "\n",
       "                                            CITATION  \\\n",
       "0  Meiwald AE et al. (2020) Reduced long-lasting ...   \n",
       "1  Meiwald AE et al. (2020) Reduced long-lasting ...   \n",
       "2  Kouassi B et al.(2020) Susceptibility of Anoph...   \n",
       "3  Kouassi B et al.(2020) Susceptibility of Anoph...   \n",
       "4  Kouassi B et al.(2020) Susceptibility of Anoph...   \n",
       "\n",
       "                                CITATION_URL               DATA_CURATOR  \n",
       "0  https://pubmed.ncbi.nlm.nih.gov/33175129/  World Health Organization  \n",
       "1  https://pubmed.ncbi.nlm.nih.gov/33175129/  World Health Organization  \n",
       "2  https://pubmed.ncbi.nlm.nih.gov/33298071/  World Health Organization  \n",
       "3  https://pubmed.ncbi.nlm.nih.gov/33298071/  World Health Organization  \n",
       "4  https://pubmed.ncbi.nlm.nih.gov/33298071/  World Health Organization  \n",
       "\n",
       "[5 rows x 25 columns]"
      ]
     },
     "execution_count": 4,
     "metadata": {},
     "output_type": "execute_result"
    }
   ],
   "source": [
    "df.head()"
   ]
  },
  {
   "cell_type": "code",
   "execution_count": 5,
   "id": "bcf2d9ea-b55f-4bb3-9c72-12a92b5d2c17",
   "metadata": {
    "scrolled": true,
    "tags": []
   },
   "outputs": [
    {
     "name": "stdout",
     "output_type": "stream",
     "text": [
      "<class 'pandas.core.frame.DataFrame'>\n",
      "RangeIndex: 1725 entries, 0 to 1724\n",
      "Data columns (total 25 columns):\n",
      " #   Column                     Non-Null Count  Dtype  \n",
      "---  ------                     --------------  -----  \n",
      " 0   ID                         1725 non-null   object \n",
      " 1   COUNTRY_NAME               1725 non-null   object \n",
      " 2   ISO2                       1725 non-null   object \n",
      " 3   ADMIN1                     1725 non-null   object \n",
      " 4   ADMIN2                     1725 non-null   object \n",
      " 5   SITE_NAME                  1725 non-null   object \n",
      " 6   SITE_CODE                  1725 non-null   object \n",
      " 7   LATITUDE                   1725 non-null   float64\n",
      " 8   LONGITUDE                  1725 non-null   float64\n",
      " 9   TEST_TYPE                  1725 non-null   object \n",
      " 10  INSECTICIDE_CLASS          1725 non-null   object \n",
      " 11  INSECTICIDE_CONC           1724 non-null   object \n",
      " 12  INSECTICIDE_INTENSITY      1724 non-null   float64\n",
      " 13  INSECTICIDE_TYPE           1725 non-null   object \n",
      " 14  YEAR_START                 1725 non-null   int64  \n",
      " 15  VECTOR_SPECIES             1725 non-null   object \n",
      " 16  STAGE_ORIGIN               1725 non-null   object \n",
      " 17  MOSQUITO_NUMBER            1725 non-null   object \n",
      " 18  TIME_HOLDING_POSTEXPOSURE  1725 non-null   object \n",
      " 19  MORTALITY_ADJUSTED         1725 non-null   float64\n",
      " 20  RESISTANCE_INTENSITY       1194 non-null   object \n",
      " 21  DATA_SOURCE                1702 non-null   object \n",
      " 22  CITATION                   1725 non-null   object \n",
      " 23  CITATION_URL               1375 non-null   object \n",
      " 24  DATA_CURATOR               1725 non-null   object \n",
      "dtypes: float64(4), int64(1), object(20)\n",
      "memory usage: 337.0+ KB\n"
     ]
    }
   ],
   "source": [
    "df.info()"
   ]
  },
  {
   "cell_type": "code",
   "execution_count": 6,
   "id": "bb2efa7f-2509-422b-b9db-1b4b77d40c28",
   "metadata": {
    "scrolled": true,
    "tags": []
   },
   "outputs": [
    {
     "data": {
      "text/html": [
       "<div>\n",
       "<style scoped>\n",
       "    .dataframe tbody tr th:only-of-type {\n",
       "        vertical-align: middle;\n",
       "    }\n",
       "\n",
       "    .dataframe tbody tr th {\n",
       "        vertical-align: top;\n",
       "    }\n",
       "\n",
       "    .dataframe thead th {\n",
       "        text-align: right;\n",
       "    }\n",
       "</style>\n",
       "<table border=\"1\" class=\"dataframe\">\n",
       "  <thead>\n",
       "    <tr style=\"text-align: right;\">\n",
       "      <th></th>\n",
       "      <th>LATITUDE</th>\n",
       "      <th>LONGITUDE</th>\n",
       "      <th>INSECTICIDE_INTENSITY</th>\n",
       "      <th>YEAR_START</th>\n",
       "      <th>MORTALITY_ADJUSTED</th>\n",
       "    </tr>\n",
       "  </thead>\n",
       "  <tbody>\n",
       "    <tr>\n",
       "      <th>count</th>\n",
       "      <td>1725.000000</td>\n",
       "      <td>1725.000000</td>\n",
       "      <td>1724.000000</td>\n",
       "      <td>1725.000000</td>\n",
       "      <td>1725.000000</td>\n",
       "    </tr>\n",
       "    <tr>\n",
       "      <th>mean</th>\n",
       "      <td>6.476528</td>\n",
       "      <td>11.370145</td>\n",
       "      <td>5.394432</td>\n",
       "      <td>2017.975072</td>\n",
       "      <td>61.896986</td>\n",
       "    </tr>\n",
       "    <tr>\n",
       "      <th>std</th>\n",
       "      <td>8.878530</td>\n",
       "      <td>25.358998</td>\n",
       "      <td>3.586570</td>\n",
       "      <td>1.701291</td>\n",
       "      <td>32.701784</td>\n",
       "    </tr>\n",
       "    <tr>\n",
       "      <th>min</th>\n",
       "      <td>-28.343065</td>\n",
       "      <td>-84.223600</td>\n",
       "      <td>1.000000</td>\n",
       "      <td>2010.000000</td>\n",
       "      <td>0.000000</td>\n",
       "    </tr>\n",
       "    <tr>\n",
       "      <th>25%</th>\n",
       "      <td>3.699000</td>\n",
       "      <td>-4.428611</td>\n",
       "      <td>1.000000</td>\n",
       "      <td>2017.000000</td>\n",
       "      <td>35.000000</td>\n",
       "    </tr>\n",
       "    <tr>\n",
       "      <th>50%</th>\n",
       "      <td>8.150000</td>\n",
       "      <td>2.840258</td>\n",
       "      <td>5.000000</td>\n",
       "      <td>2018.000000</td>\n",
       "      <td>71.000000</td>\n",
       "    </tr>\n",
       "    <tr>\n",
       "      <th>75%</th>\n",
       "      <td>12.358651</td>\n",
       "      <td>25.217662</td>\n",
       "      <td>10.000000</td>\n",
       "      <td>2019.000000</td>\n",
       "      <td>92.000000</td>\n",
       "    </tr>\n",
       "    <tr>\n",
       "      <th>max</th>\n",
       "      <td>34.671389</td>\n",
       "      <td>121.201700</td>\n",
       "      <td>10.000000</td>\n",
       "      <td>2021.000000</td>\n",
       "      <td>100.000000</td>\n",
       "    </tr>\n",
       "  </tbody>\n",
       "</table>\n",
       "</div>"
      ],
      "text/plain": [
       "          LATITUDE    LONGITUDE  INSECTICIDE_INTENSITY   YEAR_START  \\\n",
       "count  1725.000000  1725.000000            1724.000000  1725.000000   \n",
       "mean      6.476528    11.370145               5.394432  2017.975072   \n",
       "std       8.878530    25.358998               3.586570     1.701291   \n",
       "min     -28.343065   -84.223600               1.000000  2010.000000   \n",
       "25%       3.699000    -4.428611               1.000000  2017.000000   \n",
       "50%       8.150000     2.840258               5.000000  2018.000000   \n",
       "75%      12.358651    25.217662              10.000000  2019.000000   \n",
       "max      34.671389   121.201700              10.000000  2021.000000   \n",
       "\n",
       "       MORTALITY_ADJUSTED  \n",
       "count         1725.000000  \n",
       "mean            61.896986  \n",
       "std             32.701784  \n",
       "min              0.000000  \n",
       "25%             35.000000  \n",
       "50%             71.000000  \n",
       "75%             92.000000  \n",
       "max            100.000000  "
      ]
     },
     "execution_count": 6,
     "metadata": {},
     "output_type": "execute_result"
    }
   ],
   "source": [
    "#Summary of the statistics of the data\n",
    "df.describe()"
   ]
  },
  {
   "cell_type": "code",
   "execution_count": 7,
   "id": "b79126ae-62c2-44bc-a04b-3ac344e91b56",
   "metadata": {
    "tags": []
   },
   "outputs": [
    {
     "data": {
      "text/plain": [
       "Index(['ID', 'COUNTRY_NAME', 'ISO2', 'ADMIN1', 'ADMIN2', 'SITE_NAME',\n",
       "       'SITE_CODE', 'LATITUDE', 'LONGITUDE', 'TEST_TYPE', 'INSECTICIDE_CLASS',\n",
       "       'INSECTICIDE_CONC', 'INSECTICIDE_INTENSITY', 'INSECTICIDE_TYPE',\n",
       "       'YEAR_START', 'VECTOR_SPECIES', 'STAGE_ORIGIN', 'MOSQUITO_NUMBER',\n",
       "       'TIME_HOLDING_POSTEXPOSURE', 'MORTALITY_ADJUSTED',\n",
       "       'RESISTANCE_INTENSITY', 'DATA_SOURCE', 'CITATION', 'CITATION_URL',\n",
       "       'DATA_CURATOR'],\n",
       "      dtype='object')"
      ]
     },
     "execution_count": 7,
     "metadata": {},
     "output_type": "execute_result"
    }
   ],
   "source": [
    "df.columns"
   ]
  },
  {
   "cell_type": "code",
   "execution_count": 8,
   "id": "b625cb4d-3c74-42c6-9dee-fe264bd855f4",
   "metadata": {
    "tags": []
   },
   "outputs": [
    {
     "data": {
      "text/plain": [
       "0       False\n",
       "1       False\n",
       "2       False\n",
       "3       False\n",
       "4       False\n",
       "        ...  \n",
       "1720    False\n",
       "1721    False\n",
       "1722    False\n",
       "1723    False\n",
       "1724    False\n",
       "Length: 1725, dtype: bool"
      ]
     },
     "execution_count": 8,
     "metadata": {},
     "output_type": "execute_result"
    }
   ],
   "source": [
    "#Check for duplicate rows\n",
    "df.duplicated()"
   ]
  },
  {
   "cell_type": "code",
   "execution_count": 9,
   "id": "5b3d33eb-2bc4-4722-80e3-713c424b627f",
   "metadata": {
    "tags": []
   },
   "outputs": [],
   "source": [
    "#Specify the columns that are to be dropped\n",
    "columns_to_drop = ['ISO2', 'ADMIN1', 'ADMIN2', 'SITE_NAME', 'SITE_CODE', 'TEST_TYPE', 'TIME_HOLDING_POSTEXPOSURE', 'DATA_SOURCE', 'CITATION', 'CITATION_URL', 'DATA_CURATOR']"
   ]
  },
  {
   "cell_type": "code",
   "execution_count": 10,
   "id": "1e8955a8-3bc9-407b-8eac-cd70563f0eba",
   "metadata": {
    "tags": []
   },
   "outputs": [],
   "source": [
    "#Drop the specified columns and create a new dataframe\n",
    "df = df[[col for col in df.columns if col not in columns_to_drop]]"
   ]
  },
  {
   "cell_type": "code",
   "execution_count": 11,
   "id": "8aa938ee-27a3-4268-8793-3e6eb732144c",
   "metadata": {
    "tags": []
   },
   "outputs": [
    {
     "data": {
      "text/plain": [
       "Index(['ID', 'COUNTRY_NAME', 'LATITUDE', 'LONGITUDE', 'INSECTICIDE_CLASS',\n",
       "       'INSECTICIDE_CONC', 'INSECTICIDE_INTENSITY', 'INSECTICIDE_TYPE',\n",
       "       'YEAR_START', 'VECTOR_SPECIES', 'STAGE_ORIGIN', 'MOSQUITO_NUMBER',\n",
       "       'MORTALITY_ADJUSTED', 'RESISTANCE_INTENSITY'],\n",
       "      dtype='object')"
      ]
     },
     "execution_count": 11,
     "metadata": {},
     "output_type": "execute_result"
    }
   ],
   "source": [
    "#Confirming the columns have been dropped\n",
    "df.columns"
   ]
  },
  {
   "cell_type": "code",
   "execution_count": 12,
   "id": "1a7a8b99-1400-45a7-82b2-655f476a8f50",
   "metadata": {
    "tags": []
   },
   "outputs": [
    {
     "name": "stdout",
     "output_type": "stream",
     "text": [
      "<class 'pandas.core.frame.DataFrame'>\n",
      "RangeIndex: 1725 entries, 0 to 1724\n",
      "Data columns (total 14 columns):\n",
      " #   Column                 Non-Null Count  Dtype  \n",
      "---  ------                 --------------  -----  \n",
      " 0   ID                     1725 non-null   object \n",
      " 1   COUNTRY_NAME           1725 non-null   object \n",
      " 2   LATITUDE               1725 non-null   float64\n",
      " 3   LONGITUDE              1725 non-null   float64\n",
      " 4   INSECTICIDE_CLASS      1725 non-null   object \n",
      " 5   INSECTICIDE_CONC       1724 non-null   object \n",
      " 6   INSECTICIDE_INTENSITY  1724 non-null   float64\n",
      " 7   INSECTICIDE_TYPE       1725 non-null   object \n",
      " 8   YEAR_START             1725 non-null   int64  \n",
      " 9   VECTOR_SPECIES         1725 non-null   object \n",
      " 10  STAGE_ORIGIN           1725 non-null   object \n",
      " 11  MOSQUITO_NUMBER        1725 non-null   object \n",
      " 12  MORTALITY_ADJUSTED     1725 non-null   float64\n",
      " 13  RESISTANCE_INTENSITY   1194 non-null   object \n",
      "dtypes: float64(4), int64(1), object(9)\n",
      "memory usage: 188.8+ KB\n"
     ]
    }
   ],
   "source": [
    "df.info()"
   ]
  },
  {
   "cell_type": "code",
   "execution_count": 13,
   "id": "f8a305fa-7ece-49b5-bc76-cbce9a51c89c",
   "metadata": {
    "tags": []
   },
   "outputs": [],
   "source": [
    "#Removing rows with null values in specific columns\n",
    "columns_with_nulls = ['INSECTICIDE_CONC', 'INSECTICIDE_INTENSITY', 'RESISTANCE_INTENSITY']\n",
    "df.dropna(subset=columns_with_nulls, inplace=True)"
   ]
  },
  {
   "cell_type": "code",
   "execution_count": 14,
   "id": "b813d564-5727-4fba-a9bf-24944ae63f73",
   "metadata": {
    "tags": []
   },
   "outputs": [
    {
     "name": "stdout",
     "output_type": "stream",
     "text": [
      "<class 'pandas.core.frame.DataFrame'>\n",
      "Int64Index: 1193 entries, 0 to 1724\n",
      "Data columns (total 14 columns):\n",
      " #   Column                 Non-Null Count  Dtype  \n",
      "---  ------                 --------------  -----  \n",
      " 0   ID                     1193 non-null   object \n",
      " 1   COUNTRY_NAME           1193 non-null   object \n",
      " 2   LATITUDE               1193 non-null   float64\n",
      " 3   LONGITUDE              1193 non-null   float64\n",
      " 4   INSECTICIDE_CLASS      1193 non-null   object \n",
      " 5   INSECTICIDE_CONC       1193 non-null   object \n",
      " 6   INSECTICIDE_INTENSITY  1193 non-null   float64\n",
      " 7   INSECTICIDE_TYPE       1193 non-null   object \n",
      " 8   YEAR_START             1193 non-null   int64  \n",
      " 9   VECTOR_SPECIES         1193 non-null   object \n",
      " 10  STAGE_ORIGIN           1193 non-null   object \n",
      " 11  MOSQUITO_NUMBER        1193 non-null   object \n",
      " 12  MORTALITY_ADJUSTED     1193 non-null   float64\n",
      " 13  RESISTANCE_INTENSITY   1193 non-null   object \n",
      "dtypes: float64(4), int64(1), object(9)\n",
      "memory usage: 139.8+ KB\n"
     ]
    }
   ],
   "source": [
    "df.info()"
   ]
  },
  {
   "cell_type": "code",
   "execution_count": 15,
   "id": "97393ac1-1c5a-491d-a0d6-cde24c69eedb",
   "metadata": {
    "tags": []
   },
   "outputs": [],
   "source": [
    "# Check for 'µg' in 'INSECTICIDE_CONC', and convert those values to %\n",
    "df.loc[df['INSECTICIDE_CONC'].str.contains('µg', na=False), 'INSECTICIDE_CONC'] = df.loc[df['INSECTICIDE_CONC'].str.contains('µg', na=False), 'INSECTICIDE_CONC'].str.replace('µg', '').astype(float) / 100.0"
   ]
  },
  {
   "cell_type": "code",
   "execution_count": 16,
   "id": "4313a3b0-4d51-46ea-9341-7039295d6095",
   "metadata": {
    "tags": []
   },
   "outputs": [
    {
     "data": {
      "text/plain": [
       "0        1.25\n",
       "1       0.625\n",
       "3       0.25%\n",
       "4        0.5%\n",
       "6       3.75%\n",
       "        ...  \n",
       "1720    3.75%\n",
       "1721     7.5%\n",
       "1722    0.25%\n",
       "1723    0.25%\n",
       "1724    0.25%\n",
       "Name: INSECTICIDE_CONC, Length: 1193, dtype: object"
      ]
     },
     "execution_count": 16,
     "metadata": {},
     "output_type": "execute_result"
    }
   ],
   "source": [
    "df['INSECTICIDE_CONC']"
   ]
  },
  {
   "cell_type": "code",
   "execution_count": 17,
   "id": "ef4d5cbf-8532-48c0-ba1d-fa8e72406012",
   "metadata": {
    "tags": []
   },
   "outputs": [],
   "source": [
    "# Convert the remaining 'INSECTICIDE_CONC' values to float\n",
    "df['INSECTICIDE_CONC'] = df['INSECTICIDE_CONC'].str.replace('%', '').astype(float)"
   ]
  },
  {
   "cell_type": "code",
   "execution_count": 18,
   "id": "cc2c886f-4e2e-45b5-a445-53a4cf695b47",
   "metadata": {
    "tags": []
   },
   "outputs": [
    {
     "data": {
      "text/plain": [
       "0        NaN\n",
       "1        NaN\n",
       "3       0.25\n",
       "4       0.50\n",
       "6       3.75\n",
       "        ... \n",
       "1720    3.75\n",
       "1721    7.50\n",
       "1722    0.25\n",
       "1723    0.25\n",
       "1724    0.25\n",
       "Name: INSECTICIDE_CONC, Length: 1193, dtype: float64"
      ]
     },
     "execution_count": 18,
     "metadata": {},
     "output_type": "execute_result"
    }
   ],
   "source": [
    "df['INSECTICIDE_CONC']"
   ]
  },
  {
   "cell_type": "code",
   "execution_count": 19,
   "id": "77ecb0c9-c6d1-4bfe-9b01-e34e41d18817",
   "metadata": {
    "tags": []
   },
   "outputs": [
    {
     "name": "stdout",
     "output_type": "stream",
     "text": [
      "2.04\n"
     ]
    }
   ],
   "source": [
    "# Calculate the mean of non-null values in 'INSECTICIDE_CONC' with 2 decimal places\n",
    "mean_insecticide_conc = df['INSECTICIDE_CONC'].mean().round(2)\n",
    "print(mean_insecticide_conc)"
   ]
  },
  {
   "cell_type": "code",
   "execution_count": 20,
   "id": "64ec8cc9-79b8-4035-a97b-5328d4955f5a",
   "metadata": {
    "tags": []
   },
   "outputs": [],
   "source": [
    "# Replace null values in 'INSECTICIDE_CONC' with the mean\n",
    "df['INSECTICIDE_CONC'].fillna(mean_insecticide_conc, inplace=True)"
   ]
  },
  {
   "cell_type": "code",
   "execution_count": 21,
   "id": "ae5d048a-83a9-4d82-803a-bd3ff34216be",
   "metadata": {
    "tags": []
   },
   "outputs": [
    {
     "data": {
      "text/plain": [
       "0       2.04\n",
       "1       2.04\n",
       "3       0.25\n",
       "4       0.50\n",
       "6       3.75\n",
       "        ... \n",
       "1720    3.75\n",
       "1721    7.50\n",
       "1722    0.25\n",
       "1723    0.25\n",
       "1724    0.25\n",
       "Name: INSECTICIDE_CONC, Length: 1193, dtype: float64"
      ]
     },
     "execution_count": 21,
     "metadata": {},
     "output_type": "execute_result"
    }
   ],
   "source": [
    "df['INSECTICIDE_CONC']"
   ]
  },
  {
   "cell_type": "code",
   "execution_count": 22,
   "id": "1410a06a-91f5-4205-b25f-2b3f756d199b",
   "metadata": {
    "tags": []
   },
   "outputs": [],
   "source": [
    "#Cleaning the Mosquito Number column\n",
    "# Replace non-numeric values with NaN\n",
    "df['MOSQUITO_NUMBER'] = pd.to_numeric(df['MOSQUITO_NUMBER'], errors='coerce')"
   ]
  },
  {
   "cell_type": "code",
   "execution_count": 23,
   "id": "7a92b2cc-864d-49d4-94b2-2ecac724224d",
   "metadata": {
    "tags": []
   },
   "outputs": [
    {
     "name": "stdout",
     "output_type": "stream",
     "text": [
      "<class 'pandas.core.frame.DataFrame'>\n",
      "Int64Index: 1193 entries, 0 to 1724\n",
      "Data columns (total 14 columns):\n",
      " #   Column                 Non-Null Count  Dtype  \n",
      "---  ------                 --------------  -----  \n",
      " 0   ID                     1193 non-null   object \n",
      " 1   COUNTRY_NAME           1193 non-null   object \n",
      " 2   LATITUDE               1193 non-null   float64\n",
      " 3   LONGITUDE              1193 non-null   float64\n",
      " 4   INSECTICIDE_CLASS      1193 non-null   object \n",
      " 5   INSECTICIDE_CONC       1193 non-null   float64\n",
      " 6   INSECTICIDE_INTENSITY  1193 non-null   float64\n",
      " 7   INSECTICIDE_TYPE       1193 non-null   object \n",
      " 8   YEAR_START             1193 non-null   int64  \n",
      " 9   VECTOR_SPECIES         1193 non-null   object \n",
      " 10  STAGE_ORIGIN           1193 non-null   object \n",
      " 11  MOSQUITO_NUMBER        948 non-null    float64\n",
      " 12  MORTALITY_ADJUSTED     1193 non-null   float64\n",
      " 13  RESISTANCE_INTENSITY   1193 non-null   object \n",
      "dtypes: float64(6), int64(1), object(7)\n",
      "memory usage: 139.8+ KB\n"
     ]
    }
   ],
   "source": [
    "df.info()"
   ]
  },
  {
   "cell_type": "code",
   "execution_count": 24,
   "id": "31e26e90-7aea-4669-afc5-ee661ca0e8a1",
   "metadata": {
    "tags": []
   },
   "outputs": [
    {
     "name": "stdout",
     "output_type": "stream",
     "text": [
      "95\n"
     ]
    }
   ],
   "source": [
    "# Calculate the mean of 'MOSQUITO_NUMBER' (ignoring NaN values)\n",
    "mean_mosquito_number = round(df['MOSQUITO_NUMBER'].mean())\n",
    "print(mean_mosquito_number)"
   ]
  },
  {
   "cell_type": "code",
   "execution_count": 25,
   "id": "d3199876-2418-42ae-8494-d7b2bb4c25bf",
   "metadata": {
    "tags": []
   },
   "outputs": [],
   "source": [
    "# Replace NaN values in 'MOSQUITO_NUMBER' with the rounded mean\n",
    "df['MOSQUITO_NUMBER'].fillna(mean_mosquito_number, inplace=True)"
   ]
  },
  {
   "cell_type": "code",
   "execution_count": 26,
   "id": "7a61ac38-04de-456d-b65c-abeb501b8a32",
   "metadata": {
    "tags": []
   },
   "outputs": [
    {
     "data": {
      "text/plain": [
       "0        95.0\n",
       "1        95.0\n",
       "3        95.0\n",
       "4        95.0\n",
       "6        98.0\n",
       "        ...  \n",
       "1720    100.0\n",
       "1721    100.0\n",
       "1722    100.0\n",
       "1723    100.0\n",
       "1724    100.0\n",
       "Name: MOSQUITO_NUMBER, Length: 1193, dtype: float64"
      ]
     },
     "execution_count": 26,
     "metadata": {},
     "output_type": "execute_result"
    }
   ],
   "source": [
    "df['MOSQUITO_NUMBER']"
   ]
  },
  {
   "cell_type": "code",
   "execution_count": 27,
   "id": "4146dc07-58f1-4817-bbd6-fe92730e7c4e",
   "metadata": {
    "tags": []
   },
   "outputs": [
    {
     "data": {
      "text/html": [
       "<div>\n",
       "<style scoped>\n",
       "    .dataframe tbody tr th:only-of-type {\n",
       "        vertical-align: middle;\n",
       "    }\n",
       "\n",
       "    .dataframe tbody tr th {\n",
       "        vertical-align: top;\n",
       "    }\n",
       "\n",
       "    .dataframe thead th {\n",
       "        text-align: right;\n",
       "    }\n",
       "</style>\n",
       "<table border=\"1\" class=\"dataframe\">\n",
       "  <thead>\n",
       "    <tr style=\"text-align: right;\">\n",
       "      <th></th>\n",
       "      <th>LATITUDE</th>\n",
       "      <th>LONGITUDE</th>\n",
       "      <th>INSECTICIDE_CONC</th>\n",
       "      <th>INSECTICIDE_INTENSITY</th>\n",
       "      <th>YEAR_START</th>\n",
       "      <th>MOSQUITO_NUMBER</th>\n",
       "      <th>MORTALITY_ADJUSTED</th>\n",
       "    </tr>\n",
       "  </thead>\n",
       "  <tbody>\n",
       "    <tr>\n",
       "      <th>count</th>\n",
       "      <td>1193.000000</td>\n",
       "      <td>1193.000000</td>\n",
       "      <td>1193.000000</td>\n",
       "      <td>1193.000000</td>\n",
       "      <td>1193.000000</td>\n",
       "      <td>1193.000000</td>\n",
       "      <td>1193.000000</td>\n",
       "    </tr>\n",
       "    <tr>\n",
       "      <th>mean</th>\n",
       "      <td>6.579292</td>\n",
       "      <td>11.392266</td>\n",
       "      <td>2.041199</td>\n",
       "      <td>7.338642</td>\n",
       "      <td>2018.057837</td>\n",
       "      <td>95.392288</td>\n",
       "      <td>74.511316</td>\n",
       "    </tr>\n",
       "    <tr>\n",
       "      <th>std</th>\n",
       "      <td>9.066756</td>\n",
       "      <td>26.266247</td>\n",
       "      <td>2.213710</td>\n",
       "      <td>2.495834</td>\n",
       "      <td>1.740509</td>\n",
       "      <td>47.568658</td>\n",
       "      <td>26.277869</td>\n",
       "    </tr>\n",
       "    <tr>\n",
       "      <th>min</th>\n",
       "      <td>-28.343065</td>\n",
       "      <td>-84.223600</td>\n",
       "      <td>0.250000</td>\n",
       "      <td>5.000000</td>\n",
       "      <td>2010.000000</td>\n",
       "      <td>10.000000</td>\n",
       "      <td>0.000000</td>\n",
       "    </tr>\n",
       "    <tr>\n",
       "      <th>25%</th>\n",
       "      <td>3.820000</td>\n",
       "      <td>-4.353365</td>\n",
       "      <td>0.250000</td>\n",
       "      <td>5.000000</td>\n",
       "      <td>2017.000000</td>\n",
       "      <td>95.000000</td>\n",
       "      <td>60.000000</td>\n",
       "    </tr>\n",
       "    <tr>\n",
       "      <th>50%</th>\n",
       "      <td>8.275000</td>\n",
       "      <td>2.628900</td>\n",
       "      <td>2.040000</td>\n",
       "      <td>5.000000</td>\n",
       "      <td>2018.000000</td>\n",
       "      <td>100.000000</td>\n",
       "      <td>83.100000</td>\n",
       "    </tr>\n",
       "    <tr>\n",
       "      <th>75%</th>\n",
       "      <td>12.358651</td>\n",
       "      <td>25.217662</td>\n",
       "      <td>2.500000</td>\n",
       "      <td>10.000000</td>\n",
       "      <td>2019.000000</td>\n",
       "      <td>100.000000</td>\n",
       "      <td>96.500000</td>\n",
       "    </tr>\n",
       "    <tr>\n",
       "      <th>max</th>\n",
       "      <td>34.671389</td>\n",
       "      <td>121.201700</td>\n",
       "      <td>7.500000</td>\n",
       "      <td>10.000000</td>\n",
       "      <td>2021.000000</td>\n",
       "      <td>693.000000</td>\n",
       "      <td>100.000000</td>\n",
       "    </tr>\n",
       "  </tbody>\n",
       "</table>\n",
       "</div>"
      ],
      "text/plain": [
       "          LATITUDE    LONGITUDE  INSECTICIDE_CONC  INSECTICIDE_INTENSITY  \\\n",
       "count  1193.000000  1193.000000       1193.000000            1193.000000   \n",
       "mean      6.579292    11.392266          2.041199               7.338642   \n",
       "std       9.066756    26.266247          2.213710               2.495834   \n",
       "min     -28.343065   -84.223600          0.250000               5.000000   \n",
       "25%       3.820000    -4.353365          0.250000               5.000000   \n",
       "50%       8.275000     2.628900          2.040000               5.000000   \n",
       "75%      12.358651    25.217662          2.500000              10.000000   \n",
       "max      34.671389   121.201700          7.500000              10.000000   \n",
       "\n",
       "        YEAR_START  MOSQUITO_NUMBER  MORTALITY_ADJUSTED  \n",
       "count  1193.000000      1193.000000         1193.000000  \n",
       "mean   2018.057837        95.392288           74.511316  \n",
       "std       1.740509        47.568658           26.277869  \n",
       "min    2010.000000        10.000000            0.000000  \n",
       "25%    2017.000000        95.000000           60.000000  \n",
       "50%    2018.000000       100.000000           83.100000  \n",
       "75%    2019.000000       100.000000           96.500000  \n",
       "max    2021.000000       693.000000          100.000000  "
      ]
     },
     "execution_count": 27,
     "metadata": {},
     "output_type": "execute_result"
    }
   ],
   "source": [
    "df.describe()"
   ]
  },
  {
   "cell_type": "code",
   "execution_count": 28,
   "id": "4e5666d2-3136-46bd-b879-d64f60fa466b",
   "metadata": {
    "tags": []
   },
   "outputs": [],
   "source": [
    "# Convert 'YEAR_START' to datetime\n",
    "df['YEAR_START'] = pd.to_datetime(df['YEAR_START'], format='%Y')\n",
    "df['YEAR_START'] = df['YEAR_START'].dt.year"
   ]
  },
  {
   "cell_type": "code",
   "execution_count": 29,
   "id": "7acb4af9-f2cb-4586-a8d4-7658cfab00c1",
   "metadata": {
    "tags": []
   },
   "outputs": [
    {
     "data": {
      "text/html": [
       "<div>\n",
       "<style scoped>\n",
       "    .dataframe tbody tr th:only-of-type {\n",
       "        vertical-align: middle;\n",
       "    }\n",
       "\n",
       "    .dataframe tbody tr th {\n",
       "        vertical-align: top;\n",
       "    }\n",
       "\n",
       "    .dataframe thead th {\n",
       "        text-align: right;\n",
       "    }\n",
       "</style>\n",
       "<table border=\"1\" class=\"dataframe\">\n",
       "  <thead>\n",
       "    <tr style=\"text-align: right;\">\n",
       "      <th></th>\n",
       "      <th>ID</th>\n",
       "      <th>COUNTRY_NAME</th>\n",
       "      <th>LATITUDE</th>\n",
       "      <th>LONGITUDE</th>\n",
       "      <th>INSECTICIDE_CLASS</th>\n",
       "      <th>INSECTICIDE_CONC</th>\n",
       "      <th>INSECTICIDE_INTENSITY</th>\n",
       "      <th>INSECTICIDE_TYPE</th>\n",
       "      <th>YEAR_START</th>\n",
       "      <th>VECTOR_SPECIES</th>\n",
       "      <th>STAGE_ORIGIN</th>\n",
       "      <th>MOSQUITO_NUMBER</th>\n",
       "      <th>MORTALITY_ADJUSTED</th>\n",
       "      <th>RESISTANCE_INTENSITY</th>\n",
       "    </tr>\n",
       "  </thead>\n",
       "  <tbody>\n",
       "    <tr>\n",
       "      <th>0</th>\n",
       "      <td>IRInt3</td>\n",
       "      <td>Côte d’Ivoire</td>\n",
       "      <td>5.9318</td>\n",
       "      <td>-4.2181</td>\n",
       "      <td>Pyrethroids</td>\n",
       "      <td>2.04</td>\n",
       "      <td>10.0</td>\n",
       "      <td>Alpha-cypermethrin</td>\n",
       "      <td>2019</td>\n",
       "      <td>An. gambiae s.l.</td>\n",
       "      <td>F0_ADULTS_(WILD_COLLECTED)</td>\n",
       "      <td>95.0</td>\n",
       "      <td>72.0</td>\n",
       "      <td>High intensity</td>\n",
       "    </tr>\n",
       "    <tr>\n",
       "      <th>1</th>\n",
       "      <td>IRInt2</td>\n",
       "      <td>Côte d’Ivoire</td>\n",
       "      <td>5.9318</td>\n",
       "      <td>-4.2181</td>\n",
       "      <td>Pyrethroids</td>\n",
       "      <td>2.04</td>\n",
       "      <td>5.0</td>\n",
       "      <td>Alpha-cypermethrin</td>\n",
       "      <td>2019</td>\n",
       "      <td>An. gambiae s.l.</td>\n",
       "      <td>F0_ADULTS_(WILD_COLLECTED)</td>\n",
       "      <td>95.0</td>\n",
       "      <td>66.0</td>\n",
       "      <td>Moderate to high intensity</td>\n",
       "    </tr>\n",
       "    <tr>\n",
       "      <th>3</th>\n",
       "      <td>IRInt28</td>\n",
       "      <td>Côte d’Ivoire</td>\n",
       "      <td>6.1069</td>\n",
       "      <td>-3.8619</td>\n",
       "      <td>Pyrethroids</td>\n",
       "      <td>0.25</td>\n",
       "      <td>5.0</td>\n",
       "      <td>Deltamethrin</td>\n",
       "      <td>2019</td>\n",
       "      <td>An. gambiae s.l.</td>\n",
       "      <td>F0_ADULTS_(FROM_WILD_LARVAE)</td>\n",
       "      <td>95.0</td>\n",
       "      <td>54.2</td>\n",
       "      <td>Moderate to high intensity</td>\n",
       "    </tr>\n",
       "    <tr>\n",
       "      <th>4</th>\n",
       "      <td>IRInt29</td>\n",
       "      <td>Côte d’Ivoire</td>\n",
       "      <td>6.1069</td>\n",
       "      <td>-3.8619</td>\n",
       "      <td>Pyrethroids</td>\n",
       "      <td>0.50</td>\n",
       "      <td>10.0</td>\n",
       "      <td>Deltamethrin</td>\n",
       "      <td>2019</td>\n",
       "      <td>An. gambiae s.l.</td>\n",
       "      <td>F0_ADULTS_(FROM_WILD_LARVAE)</td>\n",
       "      <td>95.0</td>\n",
       "      <td>68.9</td>\n",
       "      <td>High intensity</td>\n",
       "    </tr>\n",
       "    <tr>\n",
       "      <th>6</th>\n",
       "      <td>IRInt208</td>\n",
       "      <td>Benin</td>\n",
       "      <td>6.3667</td>\n",
       "      <td>2.4334</td>\n",
       "      <td>Pyrethroids</td>\n",
       "      <td>3.75</td>\n",
       "      <td>5.0</td>\n",
       "      <td>Permethrin</td>\n",
       "      <td>2017</td>\n",
       "      <td>An. gambiae s.l.</td>\n",
       "      <td>F0_ADULTS_(FROM_WILD_LARVAE)</td>\n",
       "      <td>98.0</td>\n",
       "      <td>52.0</td>\n",
       "      <td>Moderate to high intensity</td>\n",
       "    </tr>\n",
       "  </tbody>\n",
       "</table>\n",
       "</div>"
      ],
      "text/plain": [
       "         ID   COUNTRY_NAME  LATITUDE  LONGITUDE INSECTICIDE_CLASS  \\\n",
       "0    IRInt3  Côte d’Ivoire    5.9318    -4.2181       Pyrethroids   \n",
       "1    IRInt2  Côte d’Ivoire    5.9318    -4.2181       Pyrethroids   \n",
       "3   IRInt28  Côte d’Ivoire    6.1069    -3.8619       Pyrethroids   \n",
       "4   IRInt29  Côte d’Ivoire    6.1069    -3.8619       Pyrethroids   \n",
       "6  IRInt208          Benin    6.3667     2.4334       Pyrethroids   \n",
       "\n",
       "   INSECTICIDE_CONC  INSECTICIDE_INTENSITY    INSECTICIDE_TYPE  YEAR_START  \\\n",
       "0              2.04                   10.0  Alpha-cypermethrin        2019   \n",
       "1              2.04                    5.0  Alpha-cypermethrin        2019   \n",
       "3              0.25                    5.0        Deltamethrin        2019   \n",
       "4              0.50                   10.0        Deltamethrin        2019   \n",
       "6              3.75                    5.0          Permethrin        2017   \n",
       "\n",
       "     VECTOR_SPECIES                  STAGE_ORIGIN  MOSQUITO_NUMBER  \\\n",
       "0  An. gambiae s.l.    F0_ADULTS_(WILD_COLLECTED)             95.0   \n",
       "1  An. gambiae s.l.    F0_ADULTS_(WILD_COLLECTED)             95.0   \n",
       "3  An. gambiae s.l.  F0_ADULTS_(FROM_WILD_LARVAE)             95.0   \n",
       "4  An. gambiae s.l.  F0_ADULTS_(FROM_WILD_LARVAE)             95.0   \n",
       "6  An. gambiae s.l.  F0_ADULTS_(FROM_WILD_LARVAE)             98.0   \n",
       "\n",
       "   MORTALITY_ADJUSTED        RESISTANCE_INTENSITY  \n",
       "0                72.0              High intensity  \n",
       "1                66.0  Moderate to high intensity  \n",
       "3                54.2  Moderate to high intensity  \n",
       "4                68.9              High intensity  \n",
       "6                52.0  Moderate to high intensity  "
      ]
     },
     "execution_count": 29,
     "metadata": {},
     "output_type": "execute_result"
    }
   ],
   "source": [
    "df.head()"
   ]
  },
  {
   "cell_type": "code",
   "execution_count": 30,
   "id": "2e1d468f-5a50-4214-a7be-7a0d924706a6",
   "metadata": {
    "tags": []
   },
   "outputs": [
    {
     "name": "stdout",
     "output_type": "stream",
     "text": [
      "<class 'pandas.core.frame.DataFrame'>\n",
      "Int64Index: 1193 entries, 0 to 1724\n",
      "Data columns (total 14 columns):\n",
      " #   Column                 Non-Null Count  Dtype  \n",
      "---  ------                 --------------  -----  \n",
      " 0   ID                     1193 non-null   object \n",
      " 1   COUNTRY_NAME           1193 non-null   object \n",
      " 2   LATITUDE               1193 non-null   float64\n",
      " 3   LONGITUDE              1193 non-null   float64\n",
      " 4   INSECTICIDE_CLASS      1193 non-null   object \n",
      " 5   INSECTICIDE_CONC       1193 non-null   float64\n",
      " 6   INSECTICIDE_INTENSITY  1193 non-null   float64\n",
      " 7   INSECTICIDE_TYPE       1193 non-null   object \n",
      " 8   YEAR_START             1193 non-null   int64  \n",
      " 9   VECTOR_SPECIES         1193 non-null   object \n",
      " 10  STAGE_ORIGIN           1193 non-null   object \n",
      " 11  MOSQUITO_NUMBER        1193 non-null   float64\n",
      " 12  MORTALITY_ADJUSTED     1193 non-null   float64\n",
      " 13  RESISTANCE_INTENSITY   1193 non-null   object \n",
      "dtypes: float64(6), int64(1), object(7)\n",
      "memory usage: 139.8+ KB\n"
     ]
    }
   ],
   "source": [
    "df.info()"
   ]
  },
  {
   "cell_type": "code",
   "execution_count": 31,
   "id": "3a597d77-cda9-43cd-98f6-b94b9b393660",
   "metadata": {},
   "outputs": [],
   "source": [
    "# Create a dictionary to map old column names to lowercase names\n",
    "column_mapping = {col: col.lower() for col in df.columns}\n",
    "\n",
    "# Rename the columns\n",
    "df.rename(columns=column_mapping, inplace=True)"
   ]
  },
  {
   "cell_type": "code",
   "execution_count": 32,
   "id": "e8858862-dc23-4cd5-89be-c8849a714bdf",
   "metadata": {
    "tags": []
   },
   "outputs": [
    {
     "data": {
      "text/html": [
       "<div>\n",
       "<style scoped>\n",
       "    .dataframe tbody tr th:only-of-type {\n",
       "        vertical-align: middle;\n",
       "    }\n",
       "\n",
       "    .dataframe tbody tr th {\n",
       "        vertical-align: top;\n",
       "    }\n",
       "\n",
       "    .dataframe thead th {\n",
       "        text-align: right;\n",
       "    }\n",
       "</style>\n",
       "<table border=\"1\" class=\"dataframe\">\n",
       "  <thead>\n",
       "    <tr style=\"text-align: right;\">\n",
       "      <th></th>\n",
       "      <th>id</th>\n",
       "      <th>country_name</th>\n",
       "      <th>latitude</th>\n",
       "      <th>longitude</th>\n",
       "      <th>insecticide_class</th>\n",
       "      <th>insecticide_conc</th>\n",
       "      <th>insecticide_intensity</th>\n",
       "      <th>insecticide_type</th>\n",
       "      <th>year_start</th>\n",
       "      <th>vector_species</th>\n",
       "      <th>stage_origin</th>\n",
       "      <th>mosquito_number</th>\n",
       "      <th>mortality_adjusted</th>\n",
       "      <th>resistance_intensity</th>\n",
       "    </tr>\n",
       "  </thead>\n",
       "  <tbody>\n",
       "    <tr>\n",
       "      <th>0</th>\n",
       "      <td>IRInt3</td>\n",
       "      <td>Côte d’Ivoire</td>\n",
       "      <td>5.9318</td>\n",
       "      <td>-4.2181</td>\n",
       "      <td>Pyrethroids</td>\n",
       "      <td>2.04</td>\n",
       "      <td>10.0</td>\n",
       "      <td>Alpha-cypermethrin</td>\n",
       "      <td>2019</td>\n",
       "      <td>An. gambiae s.l.</td>\n",
       "      <td>F0_ADULTS_(WILD_COLLECTED)</td>\n",
       "      <td>95.0</td>\n",
       "      <td>72.0</td>\n",
       "      <td>High intensity</td>\n",
       "    </tr>\n",
       "    <tr>\n",
       "      <th>1</th>\n",
       "      <td>IRInt2</td>\n",
       "      <td>Côte d’Ivoire</td>\n",
       "      <td>5.9318</td>\n",
       "      <td>-4.2181</td>\n",
       "      <td>Pyrethroids</td>\n",
       "      <td>2.04</td>\n",
       "      <td>5.0</td>\n",
       "      <td>Alpha-cypermethrin</td>\n",
       "      <td>2019</td>\n",
       "      <td>An. gambiae s.l.</td>\n",
       "      <td>F0_ADULTS_(WILD_COLLECTED)</td>\n",
       "      <td>95.0</td>\n",
       "      <td>66.0</td>\n",
       "      <td>Moderate to high intensity</td>\n",
       "    </tr>\n",
       "    <tr>\n",
       "      <th>3</th>\n",
       "      <td>IRInt28</td>\n",
       "      <td>Côte d’Ivoire</td>\n",
       "      <td>6.1069</td>\n",
       "      <td>-3.8619</td>\n",
       "      <td>Pyrethroids</td>\n",
       "      <td>0.25</td>\n",
       "      <td>5.0</td>\n",
       "      <td>Deltamethrin</td>\n",
       "      <td>2019</td>\n",
       "      <td>An. gambiae s.l.</td>\n",
       "      <td>F0_ADULTS_(FROM_WILD_LARVAE)</td>\n",
       "      <td>95.0</td>\n",
       "      <td>54.2</td>\n",
       "      <td>Moderate to high intensity</td>\n",
       "    </tr>\n",
       "    <tr>\n",
       "      <th>4</th>\n",
       "      <td>IRInt29</td>\n",
       "      <td>Côte d’Ivoire</td>\n",
       "      <td>6.1069</td>\n",
       "      <td>-3.8619</td>\n",
       "      <td>Pyrethroids</td>\n",
       "      <td>0.50</td>\n",
       "      <td>10.0</td>\n",
       "      <td>Deltamethrin</td>\n",
       "      <td>2019</td>\n",
       "      <td>An. gambiae s.l.</td>\n",
       "      <td>F0_ADULTS_(FROM_WILD_LARVAE)</td>\n",
       "      <td>95.0</td>\n",
       "      <td>68.9</td>\n",
       "      <td>High intensity</td>\n",
       "    </tr>\n",
       "    <tr>\n",
       "      <th>6</th>\n",
       "      <td>IRInt208</td>\n",
       "      <td>Benin</td>\n",
       "      <td>6.3667</td>\n",
       "      <td>2.4334</td>\n",
       "      <td>Pyrethroids</td>\n",
       "      <td>3.75</td>\n",
       "      <td>5.0</td>\n",
       "      <td>Permethrin</td>\n",
       "      <td>2017</td>\n",
       "      <td>An. gambiae s.l.</td>\n",
       "      <td>F0_ADULTS_(FROM_WILD_LARVAE)</td>\n",
       "      <td>98.0</td>\n",
       "      <td>52.0</td>\n",
       "      <td>Moderate to high intensity</td>\n",
       "    </tr>\n",
       "  </tbody>\n",
       "</table>\n",
       "</div>"
      ],
      "text/plain": [
       "         id   country_name  latitude  longitude insecticide_class  \\\n",
       "0    IRInt3  Côte d’Ivoire    5.9318    -4.2181       Pyrethroids   \n",
       "1    IRInt2  Côte d’Ivoire    5.9318    -4.2181       Pyrethroids   \n",
       "3   IRInt28  Côte d’Ivoire    6.1069    -3.8619       Pyrethroids   \n",
       "4   IRInt29  Côte d’Ivoire    6.1069    -3.8619       Pyrethroids   \n",
       "6  IRInt208          Benin    6.3667     2.4334       Pyrethroids   \n",
       "\n",
       "   insecticide_conc  insecticide_intensity    insecticide_type  year_start  \\\n",
       "0              2.04                   10.0  Alpha-cypermethrin        2019   \n",
       "1              2.04                    5.0  Alpha-cypermethrin        2019   \n",
       "3              0.25                    5.0        Deltamethrin        2019   \n",
       "4              0.50                   10.0        Deltamethrin        2019   \n",
       "6              3.75                    5.0          Permethrin        2017   \n",
       "\n",
       "     vector_species                  stage_origin  mosquito_number  \\\n",
       "0  An. gambiae s.l.    F0_ADULTS_(WILD_COLLECTED)             95.0   \n",
       "1  An. gambiae s.l.    F0_ADULTS_(WILD_COLLECTED)             95.0   \n",
       "3  An. gambiae s.l.  F0_ADULTS_(FROM_WILD_LARVAE)             95.0   \n",
       "4  An. gambiae s.l.  F0_ADULTS_(FROM_WILD_LARVAE)             95.0   \n",
       "6  An. gambiae s.l.  F0_ADULTS_(FROM_WILD_LARVAE)             98.0   \n",
       "\n",
       "   mortality_adjusted        resistance_intensity  \n",
       "0                72.0              High intensity  \n",
       "1                66.0  Moderate to high intensity  \n",
       "3                54.2  Moderate to high intensity  \n",
       "4                68.9              High intensity  \n",
       "6                52.0  Moderate to high intensity  "
      ]
     },
     "execution_count": 32,
     "metadata": {},
     "output_type": "execute_result"
    }
   ],
   "source": [
    "df.head()"
   ]
  },
  {
   "cell_type": "code",
   "execution_count": 34,
   "id": "1a5e4823-3289-4ce5-8bd9-037855b723e7",
   "metadata": {
    "tags": []
   },
   "outputs": [
    {
     "name": "stdout",
     "output_type": "stream",
     "text": [
      "<class 'pandas.core.frame.DataFrame'>\n",
      "Int64Index: 1193 entries, 0 to 1724\n",
      "Data columns (total 14 columns):\n",
      " #   Column                 Non-Null Count  Dtype  \n",
      "---  ------                 --------------  -----  \n",
      " 0   id                     1193 non-null   object \n",
      " 1   country_name           1193 non-null   object \n",
      " 2   latitude               1193 non-null   float64\n",
      " 3   longitude              1193 non-null   float64\n",
      " 4   insecticide_class      1193 non-null   object \n",
      " 5   insecticide_conc       1193 non-null   float64\n",
      " 6   insecticide_intensity  1193 non-null   float64\n",
      " 7   insecticide_type       1193 non-null   object \n",
      " 8   year_start             1193 non-null   int64  \n",
      " 9   vector_species         1193 non-null   object \n",
      " 10  stage_origin           1193 non-null   object \n",
      " 11  mosquito_number        1193 non-null   float64\n",
      " 12  mortality_adjusted     1193 non-null   float64\n",
      " 13  resistance_intensity   1193 non-null   object \n",
      "dtypes: float64(6), int64(1), object(7)\n",
      "memory usage: 139.8+ KB\n"
     ]
    }
   ],
   "source": [
    "df.info()\n"
   ]
  },
  {
   "cell_type": "code",
   "execution_count": 36,
   "id": "69936e1d-bd3d-44f2-a9e8-783600a5256e",
   "metadata": {},
   "outputs": [],
   "source": [
    "# Create a resistance_table with the selected columns\n",
    "resistance_table = df[['vector_species', 'country_name', 'latitude', 'longitude', 'insecticide_type', 'resistance_intensity']].copy()\n",
    "# Add a new column 'resistance_id' and set it as the index\n",
    "resistance_table['resistance_id'] = range(1, len(resistance_table) + 1)\n",
    "# Reorder the columns to have 'resistance_id' as the first column\n",
    "resistance_table = resistance_table[['resistance_id', 'vector_species', 'country_name', 'latitude', 'longitude', 'insecticide_type', 'resistance_intensity']]\n"
   ]
  },
  {
   "cell_type": "code",
   "execution_count": 38,
   "id": "4f3ca4da-83a6-42e3-99fc-0abef4a76582",
   "metadata": {
    "tags": []
   },
   "outputs": [
    {
     "name": "stdout",
     "output_type": "stream",
     "text": [
      "<class 'pandas.core.frame.DataFrame'>\n",
      "Int64Index: 1193 entries, 0 to 1724\n",
      "Data columns (total 7 columns):\n",
      " #   Column                Non-Null Count  Dtype  \n",
      "---  ------                --------------  -----  \n",
      " 0   resistance_id         1193 non-null   int64  \n",
      " 1   vector_species        1193 non-null   object \n",
      " 2   country_name          1193 non-null   object \n",
      " 3   latitude              1193 non-null   float64\n",
      " 4   longitude             1193 non-null   float64\n",
      " 5   insecticide_type      1193 non-null   object \n",
      " 6   resistance_intensity  1193 non-null   object \n",
      "dtypes: float64(2), int64(1), object(4)\n",
      "memory usage: 74.6+ KB\n"
     ]
    }
   ],
   "source": [
    "resistance_table.info()"
   ]
  },
  {
   "cell_type": "code",
   "execution_count": 43,
   "id": "7a8a1586-1906-4bc9-a063-a1bc8bee5800",
   "metadata": {
    "tags": []
   },
   "outputs": [
    {
     "data": {
      "text/html": [
       "<div>\n",
       "<style scoped>\n",
       "    .dataframe tbody tr th:only-of-type {\n",
       "        vertical-align: middle;\n",
       "    }\n",
       "\n",
       "    .dataframe tbody tr th {\n",
       "        vertical-align: top;\n",
       "    }\n",
       "\n",
       "    .dataframe thead th {\n",
       "        text-align: right;\n",
       "    }\n",
       "</style>\n",
       "<table border=\"1\" class=\"dataframe\">\n",
       "  <thead>\n",
       "    <tr style=\"text-align: right;\">\n",
       "      <th></th>\n",
       "      <th>resistance_id</th>\n",
       "      <th>vector_species</th>\n",
       "      <th>country_name</th>\n",
       "      <th>latitude</th>\n",
       "      <th>longitude</th>\n",
       "      <th>insecticide_type</th>\n",
       "      <th>resistance_intensity</th>\n",
       "    </tr>\n",
       "  </thead>\n",
       "  <tbody>\n",
       "    <tr>\n",
       "      <th>0</th>\n",
       "      <td>1</td>\n",
       "      <td>An. gambiae s.l.</td>\n",
       "      <td>Côte d’Ivoire</td>\n",
       "      <td>5.931800</td>\n",
       "      <td>-4.218100</td>\n",
       "      <td>Alpha-cypermethrin</td>\n",
       "      <td>High intensity</td>\n",
       "    </tr>\n",
       "    <tr>\n",
       "      <th>1</th>\n",
       "      <td>2</td>\n",
       "      <td>An. gambiae s.l.</td>\n",
       "      <td>Côte d’Ivoire</td>\n",
       "      <td>5.931800</td>\n",
       "      <td>-4.218100</td>\n",
       "      <td>Alpha-cypermethrin</td>\n",
       "      <td>Moderate to high intensity</td>\n",
       "    </tr>\n",
       "    <tr>\n",
       "      <th>3</th>\n",
       "      <td>3</td>\n",
       "      <td>An. gambiae s.l.</td>\n",
       "      <td>Côte d’Ivoire</td>\n",
       "      <td>6.106900</td>\n",
       "      <td>-3.861900</td>\n",
       "      <td>Deltamethrin</td>\n",
       "      <td>Moderate to high intensity</td>\n",
       "    </tr>\n",
       "    <tr>\n",
       "      <th>4</th>\n",
       "      <td>4</td>\n",
       "      <td>An. gambiae s.l.</td>\n",
       "      <td>Côte d’Ivoire</td>\n",
       "      <td>6.106900</td>\n",
       "      <td>-3.861900</td>\n",
       "      <td>Deltamethrin</td>\n",
       "      <td>High intensity</td>\n",
       "    </tr>\n",
       "    <tr>\n",
       "      <th>6</th>\n",
       "      <td>5</td>\n",
       "      <td>An. gambiae s.l.</td>\n",
       "      <td>Benin</td>\n",
       "      <td>6.366700</td>\n",
       "      <td>2.433400</td>\n",
       "      <td>Permethrin</td>\n",
       "      <td>Moderate to high intensity</td>\n",
       "    </tr>\n",
       "    <tr>\n",
       "      <th>...</th>\n",
       "      <td>...</td>\n",
       "      <td>...</td>\n",
       "      <td>...</td>\n",
       "      <td>...</td>\n",
       "      <td>...</td>\n",
       "      <td>...</td>\n",
       "      <td>...</td>\n",
       "    </tr>\n",
       "    <tr>\n",
       "      <th>1720</th>\n",
       "      <td>1189</td>\n",
       "      <td>An. gambiae s.l.</td>\n",
       "      <td>Mozambique</td>\n",
       "      <td>-15.157112</td>\n",
       "      <td>39.342965</td>\n",
       "      <td>Permethrin</td>\n",
       "      <td>Moderate to high intensity</td>\n",
       "    </tr>\n",
       "    <tr>\n",
       "      <th>1721</th>\n",
       "      <td>1190</td>\n",
       "      <td>An. gambiae s.l.</td>\n",
       "      <td>Mozambique</td>\n",
       "      <td>-15.157112</td>\n",
       "      <td>39.342965</td>\n",
       "      <td>Permethrin</td>\n",
       "      <td>High intensity</td>\n",
       "    </tr>\n",
       "    <tr>\n",
       "      <th>1722</th>\n",
       "      <td>1191</td>\n",
       "      <td>An. gambiae s.l.</td>\n",
       "      <td>Mozambique</td>\n",
       "      <td>-14.346160</td>\n",
       "      <td>32.335250</td>\n",
       "      <td>Deltamethrin</td>\n",
       "      <td>Moderate to high intensity</td>\n",
       "    </tr>\n",
       "    <tr>\n",
       "      <th>1723</th>\n",
       "      <td>1192</td>\n",
       "      <td>An. gambiae s.l.</td>\n",
       "      <td>Mozambique</td>\n",
       "      <td>-16.117800</td>\n",
       "      <td>33.728800</td>\n",
       "      <td>Deltamethrin</td>\n",
       "      <td>Moderate to high intensity</td>\n",
       "    </tr>\n",
       "    <tr>\n",
       "      <th>1724</th>\n",
       "      <td>1193</td>\n",
       "      <td>An. gambiae s.l.</td>\n",
       "      <td>Mozambique</td>\n",
       "      <td>-16.126630</td>\n",
       "      <td>33.417430</td>\n",
       "      <td>Deltamethrin</td>\n",
       "      <td>Moderate to high intensity</td>\n",
       "    </tr>\n",
       "  </tbody>\n",
       "</table>\n",
       "<p>1193 rows × 7 columns</p>\n",
       "</div>"
      ],
      "text/plain": [
       "      resistance_id    vector_species   country_name   latitude  longitude  \\\n",
       "0                 1  An. gambiae s.l.  Côte d’Ivoire   5.931800  -4.218100   \n",
       "1                 2  An. gambiae s.l.  Côte d’Ivoire   5.931800  -4.218100   \n",
       "3                 3  An. gambiae s.l.  Côte d’Ivoire   6.106900  -3.861900   \n",
       "4                 4  An. gambiae s.l.  Côte d’Ivoire   6.106900  -3.861900   \n",
       "6                 5  An. gambiae s.l.          Benin   6.366700   2.433400   \n",
       "...             ...               ...            ...        ...        ...   \n",
       "1720           1189  An. gambiae s.l.     Mozambique -15.157112  39.342965   \n",
       "1721           1190  An. gambiae s.l.     Mozambique -15.157112  39.342965   \n",
       "1722           1191  An. gambiae s.l.     Mozambique -14.346160  32.335250   \n",
       "1723           1192  An. gambiae s.l.     Mozambique -16.117800  33.728800   \n",
       "1724           1193  An. gambiae s.l.     Mozambique -16.126630  33.417430   \n",
       "\n",
       "        insecticide_type        resistance_intensity  \n",
       "0     Alpha-cypermethrin              High intensity  \n",
       "1     Alpha-cypermethrin  Moderate to high intensity  \n",
       "3           Deltamethrin  Moderate to high intensity  \n",
       "4           Deltamethrin              High intensity  \n",
       "6             Permethrin  Moderate to high intensity  \n",
       "...                  ...                         ...  \n",
       "1720          Permethrin  Moderate to high intensity  \n",
       "1721          Permethrin              High intensity  \n",
       "1722        Deltamethrin  Moderate to high intensity  \n",
       "1723        Deltamethrin  Moderate to high intensity  \n",
       "1724        Deltamethrin  Moderate to high intensity  \n",
       "\n",
       "[1193 rows x 7 columns]"
      ]
     },
     "execution_count": 43,
     "metadata": {},
     "output_type": "execute_result"
    }
   ],
   "source": [
    "resistance_table"
   ]
  },
  {
   "cell_type": "code",
   "execution_count": 44,
   "id": "5c82e4ae-f4ac-41bf-b37f-234339a4cb93",
   "metadata": {
    "tags": []
   },
   "outputs": [],
   "source": [
    "# Create insecticide_table with the selected columns\n",
    "insecticide_table = df[['insecticide_class', 'insecticide_type', 'insecticide_conc', 'insecticide_intensity']].copy()\n",
    "# Add a new column 'insecticide_id' and set it as the index\n",
    "insecticide_table['insecticide_id'] = range(1, len(insecticide_table) + 1)\n",
    "# Reorder the columns to have 'insecticide_id' as the first column\n",
    "insecticide_table = insecticide_table[['insecticide_id', 'insecticide_class', 'insecticide_type', 'insecticide_conc', 'insecticide_intensity']]\n"
   ]
  },
  {
   "cell_type": "code",
   "execution_count": 45,
   "id": "a0c11be5-2a48-4732-bd90-b72ad8128df1",
   "metadata": {
    "tags": []
   },
   "outputs": [
    {
     "data": {
      "text/html": [
       "<div>\n",
       "<style scoped>\n",
       "    .dataframe tbody tr th:only-of-type {\n",
       "        vertical-align: middle;\n",
       "    }\n",
       "\n",
       "    .dataframe tbody tr th {\n",
       "        vertical-align: top;\n",
       "    }\n",
       "\n",
       "    .dataframe thead th {\n",
       "        text-align: right;\n",
       "    }\n",
       "</style>\n",
       "<table border=\"1\" class=\"dataframe\">\n",
       "  <thead>\n",
       "    <tr style=\"text-align: right;\">\n",
       "      <th></th>\n",
       "      <th>insecticide_id</th>\n",
       "      <th>insecticide_class</th>\n",
       "      <th>insecticide_type</th>\n",
       "      <th>insecticide_conc</th>\n",
       "      <th>insecticide_intensity</th>\n",
       "    </tr>\n",
       "  </thead>\n",
       "  <tbody>\n",
       "    <tr>\n",
       "      <th>0</th>\n",
       "      <td>1</td>\n",
       "      <td>Pyrethroids</td>\n",
       "      <td>Alpha-cypermethrin</td>\n",
       "      <td>2.04</td>\n",
       "      <td>10.0</td>\n",
       "    </tr>\n",
       "    <tr>\n",
       "      <th>1</th>\n",
       "      <td>2</td>\n",
       "      <td>Pyrethroids</td>\n",
       "      <td>Alpha-cypermethrin</td>\n",
       "      <td>2.04</td>\n",
       "      <td>5.0</td>\n",
       "    </tr>\n",
       "    <tr>\n",
       "      <th>3</th>\n",
       "      <td>3</td>\n",
       "      <td>Pyrethroids</td>\n",
       "      <td>Deltamethrin</td>\n",
       "      <td>0.25</td>\n",
       "      <td>5.0</td>\n",
       "    </tr>\n",
       "    <tr>\n",
       "      <th>4</th>\n",
       "      <td>4</td>\n",
       "      <td>Pyrethroids</td>\n",
       "      <td>Deltamethrin</td>\n",
       "      <td>0.50</td>\n",
       "      <td>10.0</td>\n",
       "    </tr>\n",
       "    <tr>\n",
       "      <th>6</th>\n",
       "      <td>5</td>\n",
       "      <td>Pyrethroids</td>\n",
       "      <td>Permethrin</td>\n",
       "      <td>3.75</td>\n",
       "      <td>5.0</td>\n",
       "    </tr>\n",
       "  </tbody>\n",
       "</table>\n",
       "</div>"
      ],
      "text/plain": [
       "   insecticide_id insecticide_class    insecticide_type  insecticide_conc  \\\n",
       "0               1       Pyrethroids  Alpha-cypermethrin              2.04   \n",
       "1               2       Pyrethroids  Alpha-cypermethrin              2.04   \n",
       "3               3       Pyrethroids        Deltamethrin              0.25   \n",
       "4               4       Pyrethroids        Deltamethrin              0.50   \n",
       "6               5       Pyrethroids          Permethrin              3.75   \n",
       "\n",
       "   insecticide_intensity  \n",
       "0                   10.0  \n",
       "1                    5.0  \n",
       "3                    5.0  \n",
       "4                   10.0  \n",
       "6                    5.0  "
      ]
     },
     "execution_count": 45,
     "metadata": {},
     "output_type": "execute_result"
    }
   ],
   "source": [
    "insecticide_table.head()"
   ]
  },
  {
   "cell_type": "code",
   "execution_count": 46,
   "id": "2e128acf-b125-4bb5-95fa-9c35f183fa41",
   "metadata": {
    "tags": []
   },
   "outputs": [],
   "source": [
    "# Create malaria_vectors_table with the selected columns\n",
    "malaria_vectors_table = df[['vector_species', 'country_name', 'latitude', 'longitude', 'mosquito_number', 'mortality_adjusted', 'resistance_intensity']].copy()\n",
    "# Add a new column 'vector_id' and set it as the index\n",
    "malaria_vectors_table['vector_id'] = range(1, len(malaria_vectors_table) + 1)\n",
    "# Reorder the columns to have 'vector_id' as the first column\n",
    "malaria_vectors_table = malaria_vectors_table[['vector_id', 'vector_species', 'country_name', 'latitude', 'longitude', 'mosquito_number', 'mortality_adjusted', 'resistance_intensity']]\n"
   ]
  },
  {
   "cell_type": "code",
   "execution_count": 47,
   "id": "d973bb84-52d4-4ffc-a80b-26c5a242ad0b",
   "metadata": {
    "tags": []
   },
   "outputs": [
    {
     "data": {
      "text/html": [
       "<div>\n",
       "<style scoped>\n",
       "    .dataframe tbody tr th:only-of-type {\n",
       "        vertical-align: middle;\n",
       "    }\n",
       "\n",
       "    .dataframe tbody tr th {\n",
       "        vertical-align: top;\n",
       "    }\n",
       "\n",
       "    .dataframe thead th {\n",
       "        text-align: right;\n",
       "    }\n",
       "</style>\n",
       "<table border=\"1\" class=\"dataframe\">\n",
       "  <thead>\n",
       "    <tr style=\"text-align: right;\">\n",
       "      <th></th>\n",
       "      <th>vector_id</th>\n",
       "      <th>vector_species</th>\n",
       "      <th>country_name</th>\n",
       "      <th>latitude</th>\n",
       "      <th>longitude</th>\n",
       "      <th>mosquito_number</th>\n",
       "      <th>mortality_adjusted</th>\n",
       "      <th>resistance_intensity</th>\n",
       "    </tr>\n",
       "  </thead>\n",
       "  <tbody>\n",
       "    <tr>\n",
       "      <th>0</th>\n",
       "      <td>1</td>\n",
       "      <td>An. gambiae s.l.</td>\n",
       "      <td>Côte d’Ivoire</td>\n",
       "      <td>5.9318</td>\n",
       "      <td>-4.2181</td>\n",
       "      <td>95.0</td>\n",
       "      <td>72.0</td>\n",
       "      <td>High intensity</td>\n",
       "    </tr>\n",
       "    <tr>\n",
       "      <th>1</th>\n",
       "      <td>2</td>\n",
       "      <td>An. gambiae s.l.</td>\n",
       "      <td>Côte d’Ivoire</td>\n",
       "      <td>5.9318</td>\n",
       "      <td>-4.2181</td>\n",
       "      <td>95.0</td>\n",
       "      <td>66.0</td>\n",
       "      <td>Moderate to high intensity</td>\n",
       "    </tr>\n",
       "    <tr>\n",
       "      <th>3</th>\n",
       "      <td>3</td>\n",
       "      <td>An. gambiae s.l.</td>\n",
       "      <td>Côte d’Ivoire</td>\n",
       "      <td>6.1069</td>\n",
       "      <td>-3.8619</td>\n",
       "      <td>95.0</td>\n",
       "      <td>54.2</td>\n",
       "      <td>Moderate to high intensity</td>\n",
       "    </tr>\n",
       "    <tr>\n",
       "      <th>4</th>\n",
       "      <td>4</td>\n",
       "      <td>An. gambiae s.l.</td>\n",
       "      <td>Côte d’Ivoire</td>\n",
       "      <td>6.1069</td>\n",
       "      <td>-3.8619</td>\n",
       "      <td>95.0</td>\n",
       "      <td>68.9</td>\n",
       "      <td>High intensity</td>\n",
       "    </tr>\n",
       "    <tr>\n",
       "      <th>6</th>\n",
       "      <td>5</td>\n",
       "      <td>An. gambiae s.l.</td>\n",
       "      <td>Benin</td>\n",
       "      <td>6.3667</td>\n",
       "      <td>2.4334</td>\n",
       "      <td>98.0</td>\n",
       "      <td>52.0</td>\n",
       "      <td>Moderate to high intensity</td>\n",
       "    </tr>\n",
       "  </tbody>\n",
       "</table>\n",
       "</div>"
      ],
      "text/plain": [
       "   vector_id    vector_species   country_name  latitude  longitude  \\\n",
       "0          1  An. gambiae s.l.  Côte d’Ivoire    5.9318    -4.2181   \n",
       "1          2  An. gambiae s.l.  Côte d’Ivoire    5.9318    -4.2181   \n",
       "3          3  An. gambiae s.l.  Côte d’Ivoire    6.1069    -3.8619   \n",
       "4          4  An. gambiae s.l.  Côte d’Ivoire    6.1069    -3.8619   \n",
       "6          5  An. gambiae s.l.          Benin    6.3667     2.4334   \n",
       "\n",
       "   mosquito_number  mortality_adjusted        resistance_intensity  \n",
       "0             95.0                72.0              High intensity  \n",
       "1             95.0                66.0  Moderate to high intensity  \n",
       "3             95.0                54.2  Moderate to high intensity  \n",
       "4             95.0                68.9              High intensity  \n",
       "6             98.0                52.0  Moderate to high intensity  "
      ]
     },
     "execution_count": 47,
     "metadata": {},
     "output_type": "execute_result"
    }
   ],
   "source": [
    "malaria_vectors_table.head()"
   ]
  }
 ],
 "metadata": {
  "kernelspec": {
   "display_name": "Python 3 (ipykernel)",
   "language": "python",
   "name": "python3"
  },
  "language_info": {
   "codemirror_mode": {
    "name": "ipython",
    "version": 3
   },
   "file_extension": ".py",
   "mimetype": "text/x-python",
   "name": "python",
   "nbconvert_exporter": "python",
   "pygments_lexer": "ipython3",
   "version": "3.11.5"
  }
 },
 "nbformat": 4,
 "nbformat_minor": 5
}

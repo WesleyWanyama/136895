{
 "cells": [
  {
   "cell_type": "code",
   "execution_count": 1,
   "id": "2ac801a9-d15e-40f1-9f6f-6e18e2cca0c5",
   "metadata": {
    "tags": []
   },
   "outputs": [],
   "source": [
    "#Importing the required libraries\n",
    "import pandas as pd\n",
    "import numpy as np\n",
    "import matplotlib.pyplot as plt"
   ]
  },
  {
   "cell_type": "code",
   "execution_count": 2,
   "id": "7010820e-ed8f-4423-990e-c72bd5bb9985",
   "metadata": {
    "tags": []
   },
   "outputs": [],
   "source": [
    "#Loading the dataset\n",
    "df = pd.read_csv(\"data/estimated_cases.csv\")"
   ]
  },
  {
   "cell_type": "code",
   "execution_count": 3,
   "id": "73694a44-b56c-4a31-97b2-4a3dc48f9764",
   "metadata": {
    "tags": []
   },
   "outputs": [
    {
     "data": {
      "text/html": [
       "<div>\n",
       "<style scoped>\n",
       "    .dataframe tbody tr th:only-of-type {\n",
       "        vertical-align: middle;\n",
       "    }\n",
       "\n",
       "    .dataframe tbody tr th {\n",
       "        vertical-align: top;\n",
       "    }\n",
       "\n",
       "    .dataframe thead th {\n",
       "        text-align: right;\n",
       "    }\n",
       "</style>\n",
       "<table border=\"1\" class=\"dataframe\">\n",
       "  <thead>\n",
       "    <tr style=\"text-align: right;\">\n",
       "      <th></th>\n",
       "      <th>GHO (CODE)</th>\n",
       "      <th>GHO (DISPLAY)</th>\n",
       "      <th>GHO (URL)</th>\n",
       "      <th>PUBLISHSTATE (CODE)</th>\n",
       "      <th>PUBLISHSTATE (DISPLAY)</th>\n",
       "      <th>PUBLISHSTATE (URL)</th>\n",
       "      <th>YEAR (CODE)</th>\n",
       "      <th>YEAR (DISPLAY)</th>\n",
       "      <th>YEAR (URL)</th>\n",
       "      <th>REGION (CODE)</th>\n",
       "      <th>...</th>\n",
       "      <th>COUNTRY (CODE)</th>\n",
       "      <th>COUNTRY (DISPLAY)</th>\n",
       "      <th>COUNTRY (URL)</th>\n",
       "      <th>Display Value</th>\n",
       "      <th>Numeric</th>\n",
       "      <th>Low</th>\n",
       "      <th>High</th>\n",
       "      <th>StdErr</th>\n",
       "      <th>StdDev</th>\n",
       "      <th>Comments</th>\n",
       "    </tr>\n",
       "  </thead>\n",
       "  <tbody>\n",
       "    <tr>\n",
       "      <th>0</th>\n",
       "      <td>MALARIA_EST_CASES</td>\n",
       "      <td>Estimated number of malaria cases</td>\n",
       "      <td>https://www.who.int/data/gho/indicator-metadat...</td>\n",
       "      <td>PUBLISHED</td>\n",
       "      <td>Published</td>\n",
       "      <td>NaN</td>\n",
       "      <td>2012</td>\n",
       "      <td>2012</td>\n",
       "      <td>NaN</td>\n",
       "      <td>EUR</td>\n",
       "      <td>...</td>\n",
       "      <td>KGZ</td>\n",
       "      <td>Kyrgyzstan</td>\n",
       "      <td>NaN</td>\n",
       "      <td>0</td>\n",
       "      <td>0.0</td>\n",
       "      <td>NaN</td>\n",
       "      <td>NaN</td>\n",
       "      <td>NaN</td>\n",
       "      <td>NaN</td>\n",
       "      <td>NaN</td>\n",
       "    </tr>\n",
       "    <tr>\n",
       "      <th>1</th>\n",
       "      <td>MALARIA_EST_CASES</td>\n",
       "      <td>Estimated number of malaria cases</td>\n",
       "      <td>https://www.who.int/data/gho/indicator-metadat...</td>\n",
       "      <td>PUBLISHED</td>\n",
       "      <td>Published</td>\n",
       "      <td>NaN</td>\n",
       "      <td>2008</td>\n",
       "      <td>2008</td>\n",
       "      <td>NaN</td>\n",
       "      <td>AMR</td>\n",
       "      <td>...</td>\n",
       "      <td>SUR</td>\n",
       "      <td>Suriname</td>\n",
       "      <td>NaN</td>\n",
       "      <td>2 086</td>\n",
       "      <td>2086.0</td>\n",
       "      <td>NaN</td>\n",
       "      <td>NaN</td>\n",
       "      <td>NaN</td>\n",
       "      <td>NaN</td>\n",
       "      <td>NaN</td>\n",
       "    </tr>\n",
       "    <tr>\n",
       "      <th>2</th>\n",
       "      <td>MALARIA_EST_CASES</td>\n",
       "      <td>Estimated number of malaria cases</td>\n",
       "      <td>https://www.who.int/data/gho/indicator-metadat...</td>\n",
       "      <td>PUBLISHED</td>\n",
       "      <td>Published</td>\n",
       "      <td>NaN</td>\n",
       "      <td>2006</td>\n",
       "      <td>2006</td>\n",
       "      <td>NaN</td>\n",
       "      <td>AMR</td>\n",
       "      <td>...</td>\n",
       "      <td>ECU</td>\n",
       "      <td>Ecuador</td>\n",
       "      <td>NaN</td>\n",
       "      <td>9 863</td>\n",
       "      <td>9863.0</td>\n",
       "      <td>NaN</td>\n",
       "      <td>NaN</td>\n",
       "      <td>NaN</td>\n",
       "      <td>NaN</td>\n",
       "      <td>NaN</td>\n",
       "    </tr>\n",
       "    <tr>\n",
       "      <th>3</th>\n",
       "      <td>MALARIA_EST_CASES</td>\n",
       "      <td>Estimated number of malaria cases</td>\n",
       "      <td>https://www.who.int/data/gho/indicator-metadat...</td>\n",
       "      <td>PUBLISHED</td>\n",
       "      <td>Published</td>\n",
       "      <td>NaN</td>\n",
       "      <td>2014</td>\n",
       "      <td>2014</td>\n",
       "      <td>NaN</td>\n",
       "      <td>SEAR</td>\n",
       "      <td>...</td>\n",
       "      <td>LKA</td>\n",
       "      <td>Sri Lanka</td>\n",
       "      <td>NaN</td>\n",
       "      <td>0</td>\n",
       "      <td>0.0</td>\n",
       "      <td>NaN</td>\n",
       "      <td>NaN</td>\n",
       "      <td>NaN</td>\n",
       "      <td>NaN</td>\n",
       "      <td>NaN</td>\n",
       "    </tr>\n",
       "    <tr>\n",
       "      <th>4</th>\n",
       "      <td>MALARIA_EST_CASES</td>\n",
       "      <td>Estimated number of malaria cases</td>\n",
       "      <td>https://www.who.int/data/gho/indicator-metadat...</td>\n",
       "      <td>PUBLISHED</td>\n",
       "      <td>Published</td>\n",
       "      <td>NaN</td>\n",
       "      <td>2005</td>\n",
       "      <td>2005</td>\n",
       "      <td>NaN</td>\n",
       "      <td>AMR</td>\n",
       "      <td>...</td>\n",
       "      <td>SLV</td>\n",
       "      <td>El Salvador</td>\n",
       "      <td>NaN</td>\n",
       "      <td>67</td>\n",
       "      <td>67.0</td>\n",
       "      <td>NaN</td>\n",
       "      <td>NaN</td>\n",
       "      <td>NaN</td>\n",
       "      <td>NaN</td>\n",
       "      <td>NaN</td>\n",
       "    </tr>\n",
       "  </tbody>\n",
       "</table>\n",
       "<p>5 rows × 22 columns</p>\n",
       "</div>"
      ],
      "text/plain": [
       "          GHO (CODE)                      GHO (DISPLAY)  \\\n",
       "0  MALARIA_EST_CASES  Estimated number of malaria cases   \n",
       "1  MALARIA_EST_CASES  Estimated number of malaria cases   \n",
       "2  MALARIA_EST_CASES  Estimated number of malaria cases   \n",
       "3  MALARIA_EST_CASES  Estimated number of malaria cases   \n",
       "4  MALARIA_EST_CASES  Estimated number of malaria cases   \n",
       "\n",
       "                                           GHO (URL) PUBLISHSTATE (CODE)  \\\n",
       "0  https://www.who.int/data/gho/indicator-metadat...           PUBLISHED   \n",
       "1  https://www.who.int/data/gho/indicator-metadat...           PUBLISHED   \n",
       "2  https://www.who.int/data/gho/indicator-metadat...           PUBLISHED   \n",
       "3  https://www.who.int/data/gho/indicator-metadat...           PUBLISHED   \n",
       "4  https://www.who.int/data/gho/indicator-metadat...           PUBLISHED   \n",
       "\n",
       "  PUBLISHSTATE (DISPLAY)  PUBLISHSTATE (URL)  YEAR (CODE)  YEAR (DISPLAY)  \\\n",
       "0              Published                 NaN         2012            2012   \n",
       "1              Published                 NaN         2008            2008   \n",
       "2              Published                 NaN         2006            2006   \n",
       "3              Published                 NaN         2014            2014   \n",
       "4              Published                 NaN         2005            2005   \n",
       "\n",
       "   YEAR (URL) REGION (CODE)  ... COUNTRY (CODE)  COUNTRY (DISPLAY)  \\\n",
       "0         NaN           EUR  ...            KGZ         Kyrgyzstan   \n",
       "1         NaN           AMR  ...            SUR           Suriname   \n",
       "2         NaN           AMR  ...            ECU            Ecuador   \n",
       "3         NaN          SEAR  ...            LKA          Sri Lanka   \n",
       "4         NaN           AMR  ...            SLV        El Salvador   \n",
       "\n",
       "  COUNTRY (URL) Display Value  Numeric Low  High  StdErr  StdDev  Comments  \n",
       "0           NaN             0      0.0 NaN   NaN     NaN     NaN       NaN  \n",
       "1           NaN         2 086   2086.0 NaN   NaN     NaN     NaN       NaN  \n",
       "2           NaN         9 863   9863.0 NaN   NaN     NaN     NaN       NaN  \n",
       "3           NaN             0      0.0 NaN   NaN     NaN     NaN       NaN  \n",
       "4           NaN            67     67.0 NaN   NaN     NaN     NaN       NaN  \n",
       "\n",
       "[5 rows x 22 columns]"
      ]
     },
     "execution_count": 3,
     "metadata": {},
     "output_type": "execute_result"
    }
   ],
   "source": [
    "df.head()"
   ]
  },
  {
   "cell_type": "code",
   "execution_count": 4,
   "id": "3a970528-bfd8-4b61-9738-3a5be65f7c27",
   "metadata": {
    "tags": []
   },
   "outputs": [
    {
     "name": "stdout",
     "output_type": "stream",
     "text": [
      "<class 'pandas.core.frame.DataFrame'>\n",
      "RangeIndex: 2372 entries, 0 to 2371\n",
      "Data columns (total 22 columns):\n",
      " #   Column                  Non-Null Count  Dtype  \n",
      "---  ------                  --------------  -----  \n",
      " 0   GHO (CODE)              2372 non-null   object \n",
      " 1   GHO (DISPLAY)           2372 non-null   object \n",
      " 2   GHO (URL)               2372 non-null   object \n",
      " 3   PUBLISHSTATE (CODE)     2372 non-null   object \n",
      " 4   PUBLISHSTATE (DISPLAY)  2372 non-null   object \n",
      " 5   PUBLISHSTATE (URL)      0 non-null      float64\n",
      " 6   YEAR (CODE)             2372 non-null   int64  \n",
      " 7   YEAR (DISPLAY)          2372 non-null   int64  \n",
      " 8   YEAR (URL)              0 non-null      float64\n",
      " 9   REGION (CODE)           2333 non-null   object \n",
      " 10  REGION (DISPLAY)        2333 non-null   object \n",
      " 11  REGION (URL)            0 non-null      float64\n",
      " 12  COUNTRY (CODE)          2372 non-null   object \n",
      " 13  COUNTRY (DISPLAY)       2372 non-null   object \n",
      " 14  COUNTRY (URL)           0 non-null      float64\n",
      " 15  Display Value           2372 non-null   object \n",
      " 16  Numeric                 2372 non-null   float64\n",
      " 17  Low                     1565 non-null   float64\n",
      " 18  High                    1565 non-null   float64\n",
      " 19  StdErr                  0 non-null      float64\n",
      " 20  StdDev                  0 non-null      float64\n",
      " 21  Comments                0 non-null      float64\n",
      "dtypes: float64(10), int64(2), object(10)\n",
      "memory usage: 407.8+ KB\n"
     ]
    }
   ],
   "source": [
    "df.info()"
   ]
  },
  {
   "cell_type": "code",
   "execution_count": 5,
   "id": "35df0b6c-c844-4c7a-a9ff-2e2606af51f5",
   "metadata": {
    "tags": []
   },
   "outputs": [
    {
     "data": {
      "text/html": [
       "<div>\n",
       "<style scoped>\n",
       "    .dataframe tbody tr th:only-of-type {\n",
       "        vertical-align: middle;\n",
       "    }\n",
       "\n",
       "    .dataframe tbody tr th {\n",
       "        vertical-align: top;\n",
       "    }\n",
       "\n",
       "    .dataframe thead th {\n",
       "        text-align: right;\n",
       "    }\n",
       "</style>\n",
       "<table border=\"1\" class=\"dataframe\">\n",
       "  <thead>\n",
       "    <tr style=\"text-align: right;\">\n",
       "      <th></th>\n",
       "      <th>PUBLISHSTATE (URL)</th>\n",
       "      <th>YEAR (CODE)</th>\n",
       "      <th>YEAR (DISPLAY)</th>\n",
       "      <th>YEAR (URL)</th>\n",
       "      <th>REGION (URL)</th>\n",
       "      <th>COUNTRY (URL)</th>\n",
       "      <th>Numeric</th>\n",
       "      <th>Low</th>\n",
       "      <th>High</th>\n",
       "      <th>StdErr</th>\n",
       "      <th>StdDev</th>\n",
       "      <th>Comments</th>\n",
       "    </tr>\n",
       "  </thead>\n",
       "  <tbody>\n",
       "    <tr>\n",
       "      <th>count</th>\n",
       "      <td>0.0</td>\n",
       "      <td>2372.000000</td>\n",
       "      <td>2372.000000</td>\n",
       "      <td>0.0</td>\n",
       "      <td>0.0</td>\n",
       "      <td>0.0</td>\n",
       "      <td>2.372000e+03</td>\n",
       "      <td>1.565000e+03</td>\n",
       "      <td>1.565000e+03</td>\n",
       "      <td>0.0</td>\n",
       "      <td>0.0</td>\n",
       "      <td>0.0</td>\n",
       "    </tr>\n",
       "    <tr>\n",
       "      <th>mean</th>\n",
       "      <td>NaN</td>\n",
       "      <td>2010.508010</td>\n",
       "      <td>2010.508010</td>\n",
       "      <td>NaN</td>\n",
       "      <td>NaN</td>\n",
       "      <td>NaN</td>\n",
       "      <td>2.238404e+06</td>\n",
       "      <td>2.488876e+06</td>\n",
       "      <td>4.603921e+06</td>\n",
       "      <td>NaN</td>\n",
       "      <td>NaN</td>\n",
       "      <td>NaN</td>\n",
       "    </tr>\n",
       "    <tr>\n",
       "      <th>std</th>\n",
       "      <td>NaN</td>\n",
       "      <td>6.338905</td>\n",
       "      <td>6.338905</td>\n",
       "      <td>NaN</td>\n",
       "      <td>NaN</td>\n",
       "      <td>NaN</td>\n",
       "      <td>6.574654e+06</td>\n",
       "      <td>6.148587e+06</td>\n",
       "      <td>1.006841e+07</td>\n",
       "      <td>NaN</td>\n",
       "      <td>NaN</td>\n",
       "      <td>NaN</td>\n",
       "    </tr>\n",
       "    <tr>\n",
       "      <th>min</th>\n",
       "      <td>NaN</td>\n",
       "      <td>2000.000000</td>\n",
       "      <td>2000.000000</td>\n",
       "      <td>NaN</td>\n",
       "      <td>NaN</td>\n",
       "      <td>NaN</td>\n",
       "      <td>0.000000e+00</td>\n",
       "      <td>0.000000e+00</td>\n",
       "      <td>0.000000e+00</td>\n",
       "      <td>NaN</td>\n",
       "      <td>NaN</td>\n",
       "      <td>NaN</td>\n",
       "    </tr>\n",
       "    <tr>\n",
       "      <th>25%</th>\n",
       "      <td>NaN</td>\n",
       "      <td>2005.000000</td>\n",
       "      <td>2005.000000</td>\n",
       "      <td>NaN</td>\n",
       "      <td>NaN</td>\n",
       "      <td>NaN</td>\n",
       "      <td>7.390000e+02</td>\n",
       "      <td>3.300000e+04</td>\n",
       "      <td>7.000000e+04</td>\n",
       "      <td>NaN</td>\n",
       "      <td>NaN</td>\n",
       "      <td>NaN</td>\n",
       "    </tr>\n",
       "    <tr>\n",
       "      <th>50%</th>\n",
       "      <td>NaN</td>\n",
       "      <td>2011.000000</td>\n",
       "      <td>2011.000000</td>\n",
       "      <td>NaN</td>\n",
       "      <td>NaN</td>\n",
       "      <td>NaN</td>\n",
       "      <td>5.002850e+04</td>\n",
       "      <td>4.370000e+05</td>\n",
       "      <td>1.200000e+06</td>\n",
       "      <td>NaN</td>\n",
       "      <td>NaN</td>\n",
       "      <td>NaN</td>\n",
       "    </tr>\n",
       "    <tr>\n",
       "      <th>75%</th>\n",
       "      <td>NaN</td>\n",
       "      <td>2016.000000</td>\n",
       "      <td>2016.000000</td>\n",
       "      <td>NaN</td>\n",
       "      <td>NaN</td>\n",
       "      <td>NaN</td>\n",
       "      <td>1.596863e+06</td>\n",
       "      <td>2.372000e+06</td>\n",
       "      <td>4.850000e+06</td>\n",
       "      <td>NaN</td>\n",
       "      <td>NaN</td>\n",
       "      <td>NaN</td>\n",
       "    </tr>\n",
       "    <tr>\n",
       "      <th>max</th>\n",
       "      <td>NaN</td>\n",
       "      <td>2021.000000</td>\n",
       "      <td>2021.000000</td>\n",
       "      <td>NaN</td>\n",
       "      <td>NaN</td>\n",
       "      <td>NaN</td>\n",
       "      <td>6.539950e+07</td>\n",
       "      <td>5.180000e+07</td>\n",
       "      <td>8.900000e+07</td>\n",
       "      <td>NaN</td>\n",
       "      <td>NaN</td>\n",
       "      <td>NaN</td>\n",
       "    </tr>\n",
       "  </tbody>\n",
       "</table>\n",
       "</div>"
      ],
      "text/plain": [
       "       PUBLISHSTATE (URL)  YEAR (CODE)  YEAR (DISPLAY)  YEAR (URL)  \\\n",
       "count                 0.0  2372.000000     2372.000000         0.0   \n",
       "mean                  NaN  2010.508010     2010.508010         NaN   \n",
       "std                   NaN     6.338905        6.338905         NaN   \n",
       "min                   NaN  2000.000000     2000.000000         NaN   \n",
       "25%                   NaN  2005.000000     2005.000000         NaN   \n",
       "50%                   NaN  2011.000000     2011.000000         NaN   \n",
       "75%                   NaN  2016.000000     2016.000000         NaN   \n",
       "max                   NaN  2021.000000     2021.000000         NaN   \n",
       "\n",
       "       REGION (URL)  COUNTRY (URL)       Numeric           Low          High  \\\n",
       "count           0.0            0.0  2.372000e+03  1.565000e+03  1.565000e+03   \n",
       "mean            NaN            NaN  2.238404e+06  2.488876e+06  4.603921e+06   \n",
       "std             NaN            NaN  6.574654e+06  6.148587e+06  1.006841e+07   \n",
       "min             NaN            NaN  0.000000e+00  0.000000e+00  0.000000e+00   \n",
       "25%             NaN            NaN  7.390000e+02  3.300000e+04  7.000000e+04   \n",
       "50%             NaN            NaN  5.002850e+04  4.370000e+05  1.200000e+06   \n",
       "75%             NaN            NaN  1.596863e+06  2.372000e+06  4.850000e+06   \n",
       "max             NaN            NaN  6.539950e+07  5.180000e+07  8.900000e+07   \n",
       "\n",
       "       StdErr  StdDev  Comments  \n",
       "count     0.0     0.0       0.0  \n",
       "mean      NaN     NaN       NaN  \n",
       "std       NaN     NaN       NaN  \n",
       "min       NaN     NaN       NaN  \n",
       "25%       NaN     NaN       NaN  \n",
       "50%       NaN     NaN       NaN  \n",
       "75%       NaN     NaN       NaN  \n",
       "max       NaN     NaN       NaN  "
      ]
     },
     "execution_count": 5,
     "metadata": {},
     "output_type": "execute_result"
    }
   ],
   "source": [
    "#Summary of the statistics of the data\n",
    "df.describe()"
   ]
  },
  {
   "cell_type": "code",
   "execution_count": 6,
   "id": "e099e203-ab76-49aa-86bd-f97407277b64",
   "metadata": {
    "tags": []
   },
   "outputs": [
    {
     "data": {
      "text/plain": [
       "Index(['GHO (CODE)', 'GHO (DISPLAY)', 'GHO (URL)', 'PUBLISHSTATE (CODE)',\n",
       "       'PUBLISHSTATE (DISPLAY)', 'PUBLISHSTATE (URL)', 'YEAR (CODE)',\n",
       "       'YEAR (DISPLAY)', 'YEAR (URL)', 'REGION (CODE)', 'REGION (DISPLAY)',\n",
       "       'REGION (URL)', 'COUNTRY (CODE)', 'COUNTRY (DISPLAY)', 'COUNTRY (URL)',\n",
       "       'Display Value', 'Numeric', 'Low', 'High', 'StdErr', 'StdDev',\n",
       "       'Comments'],\n",
       "      dtype='object')"
      ]
     },
     "execution_count": 6,
     "metadata": {},
     "output_type": "execute_result"
    }
   ],
   "source": [
    "df.columns"
   ]
  },
  {
   "cell_type": "code",
   "execution_count": 7,
   "id": "1a745d48-3328-4148-9273-c95f37a6bdce",
   "metadata": {
    "collapsed": true,
    "jupyter": {
     "outputs_hidden": true
    },
    "tags": []
   },
   "outputs": [
    {
     "data": {
      "text/plain": [
       "0       False\n",
       "1       False\n",
       "2       False\n",
       "3       False\n",
       "4       False\n",
       "        ...  \n",
       "2367    False\n",
       "2368    False\n",
       "2369    False\n",
       "2370    False\n",
       "2371    False\n",
       "Length: 2372, dtype: bool"
      ]
     },
     "execution_count": 7,
     "metadata": {},
     "output_type": "execute_result"
    }
   ],
   "source": [
    "#Check for duplicate rows\n",
    "df.duplicated()"
   ]
  },
  {
   "cell_type": "code",
   "execution_count": 11,
   "id": "188fd0a6-6b7f-40ee-a966-999a65349e76",
   "metadata": {
    "tags": []
   },
   "outputs": [],
   "source": [
    "#Specify the columns that are to be dropped\n",
    "columns_to_drop = ['GHO (CODE)', 'GHO (DISPLAY)', 'GHO (URL)', 'PUBLISHSTATE (CODE)', 'PUBLISHSTATE (DISPLAY)', 'PUBLISHSTATE (URL)', 'YEAR (CODE)', 'YEAR (URL)', 'REGION (CODE)', 'REGION (URL)', 'COUNTRY (CODE)', 'COUNTRY (URL)', 'Display Value', 'Low', 'High', 'StdErr', 'StdDev', 'Comments']"
   ]
  },
  {
   "cell_type": "code",
   "execution_count": 12,
   "id": "d7ac42dc-b966-4b3a-a10c-df717ccc3bfc",
   "metadata": {
    "tags": []
   },
   "outputs": [],
   "source": [
    "#Drop the specified columns and create a new dataframe\n",
    "df = df[[col for col in df.columns if col not in columns_to_drop]]"
   ]
  },
  {
   "cell_type": "code",
   "execution_count": 14,
   "id": "fbb7aecf-423f-4b64-bd77-1130692196ae",
   "metadata": {
    "tags": []
   },
   "outputs": [
    {
     "data": {
      "text/plain": [
       "Index(['YEAR (DISPLAY)', 'REGION (DISPLAY)', 'COUNTRY (DISPLAY)', 'Numeric'], dtype='object')"
      ]
     },
     "execution_count": 14,
     "metadata": {},
     "output_type": "execute_result"
    }
   ],
   "source": [
    "df.columns"
   ]
  },
  {
   "cell_type": "code",
   "execution_count": 15,
   "id": "8a757142-c35c-4516-9dc0-aba97efc5968",
   "metadata": {
    "tags": []
   },
   "outputs": [
    {
     "name": "stdout",
     "output_type": "stream",
     "text": [
      "<class 'pandas.core.frame.DataFrame'>\n",
      "RangeIndex: 2372 entries, 0 to 2371\n",
      "Data columns (total 4 columns):\n",
      " #   Column             Non-Null Count  Dtype  \n",
      "---  ------             --------------  -----  \n",
      " 0   YEAR (DISPLAY)     2372 non-null   int64  \n",
      " 1   REGION (DISPLAY)   2333 non-null   object \n",
      " 2   COUNTRY (DISPLAY)  2372 non-null   object \n",
      " 3   Numeric            2372 non-null   float64\n",
      "dtypes: float64(1), int64(1), object(2)\n",
      "memory usage: 74.3+ KB\n"
     ]
    }
   ],
   "source": [
    "df.info()"
   ]
  },
  {
   "cell_type": "code",
   "execution_count": 16,
   "id": "83e648b3-8bfd-43e6-a519-39543c93bb4b",
   "metadata": {
    "tags": []
   },
   "outputs": [],
   "source": [
    "# Removing rows with null values. Here the Region column has the null values\n",
    "df.dropna(subset=['REGION (DISPLAY)'], inplace=True)"
   ]
  },
  {
   "cell_type": "code",
   "execution_count": 17,
   "id": "5f68c6c3-c8fa-4d7e-a20a-d4b6cfb20f58",
   "metadata": {
    "tags": []
   },
   "outputs": [
    {
     "name": "stdout",
     "output_type": "stream",
     "text": [
      "<class 'pandas.core.frame.DataFrame'>\n",
      "Int64Index: 2333 entries, 0 to 2371\n",
      "Data columns (total 4 columns):\n",
      " #   Column             Non-Null Count  Dtype  \n",
      "---  ------             --------------  -----  \n",
      " 0   YEAR (DISPLAY)     2333 non-null   int64  \n",
      " 1   REGION (DISPLAY)   2333 non-null   object \n",
      " 2   COUNTRY (DISPLAY)  2333 non-null   object \n",
      " 3   Numeric            2333 non-null   float64\n",
      "dtypes: float64(1), int64(1), object(2)\n",
      "memory usage: 91.1+ KB\n"
     ]
    }
   ],
   "source": [
    "df.info()"
   ]
  },
  {
   "cell_type": "code",
   "execution_count": 19,
   "id": "6f117865-b85f-491e-9550-20a6ebe45587",
   "metadata": {
    "tags": []
   },
   "outputs": [],
   "source": [
    "# Create a dictionary to specify the mapping of old column names to new column names\n",
    "column_mapping = {\n",
    "    'YEAR (DISPLAY)': 'Year',\n",
    "    'REGION (DISPLAY)': 'Region',\n",
    "    'COUNTRY (DISPLAY)': 'Country',\n",
    "    'Numeric': 'Cases',\n",
    "}\n",
    "\n",
    "# Use the rename() function to rename the columns\n",
    "df.rename(columns=column_mapping, inplace=True)"
   ]
  },
  {
   "cell_type": "code",
   "execution_count": 21,
   "id": "d83d0e58-d887-44ea-81b3-3d85e8cc1116",
   "metadata": {
    "tags": []
   },
   "outputs": [],
   "source": [
    "# Convert 'Year' to datetime\n",
    "df['Year'] = pd.to_datetime(df['Year'], format='%Y')\n",
    "df['Year'] = df['Year'].dt.year"
   ]
  },
  {
   "cell_type": "code",
   "execution_count": 23,
   "id": "d1f2ee2d-2f17-4e00-9c79-971c17faddac",
   "metadata": {
    "tags": []
   },
   "outputs": [],
   "source": [
    "# Use astype to convert the \"Cases\" column to an integer\n",
    "df['Cases'] = df['Cases'].astype(int)"
   ]
  },
  {
   "cell_type": "code",
   "execution_count": 24,
   "id": "bf0ebe86-7884-48b3-a5f2-9af6a383a111",
   "metadata": {
    "tags": []
   },
   "outputs": [
    {
     "data": {
      "text/html": [
       "<div>\n",
       "<style scoped>\n",
       "    .dataframe tbody tr th:only-of-type {\n",
       "        vertical-align: middle;\n",
       "    }\n",
       "\n",
       "    .dataframe tbody tr th {\n",
       "        vertical-align: top;\n",
       "    }\n",
       "\n",
       "    .dataframe thead th {\n",
       "        text-align: right;\n",
       "    }\n",
       "</style>\n",
       "<table border=\"1\" class=\"dataframe\">\n",
       "  <thead>\n",
       "    <tr style=\"text-align: right;\">\n",
       "      <th></th>\n",
       "      <th>Year</th>\n",
       "      <th>Region</th>\n",
       "      <th>Country</th>\n",
       "      <th>Cases</th>\n",
       "    </tr>\n",
       "  </thead>\n",
       "  <tbody>\n",
       "    <tr>\n",
       "      <th>0</th>\n",
       "      <td>2012</td>\n",
       "      <td>Europe</td>\n",
       "      <td>Kyrgyzstan</td>\n",
       "      <td>0</td>\n",
       "    </tr>\n",
       "    <tr>\n",
       "      <th>1</th>\n",
       "      <td>2008</td>\n",
       "      <td>Americas</td>\n",
       "      <td>Suriname</td>\n",
       "      <td>2086</td>\n",
       "    </tr>\n",
       "    <tr>\n",
       "      <th>2</th>\n",
       "      <td>2006</td>\n",
       "      <td>Americas</td>\n",
       "      <td>Ecuador</td>\n",
       "      <td>9863</td>\n",
       "    </tr>\n",
       "    <tr>\n",
       "      <th>3</th>\n",
       "      <td>2014</td>\n",
       "      <td>South-East Asia</td>\n",
       "      <td>Sri Lanka</td>\n",
       "      <td>0</td>\n",
       "    </tr>\n",
       "    <tr>\n",
       "      <th>4</th>\n",
       "      <td>2005</td>\n",
       "      <td>Americas</td>\n",
       "      <td>El Salvador</td>\n",
       "      <td>67</td>\n",
       "    </tr>\n",
       "  </tbody>\n",
       "</table>\n",
       "</div>"
      ],
      "text/plain": [
       "   Year           Region      Country  Cases\n",
       "0  2012           Europe   Kyrgyzstan      0\n",
       "1  2008         Americas     Suriname   2086\n",
       "2  2006         Americas      Ecuador   9863\n",
       "3  2014  South-East Asia    Sri Lanka      0\n",
       "4  2005         Americas  El Salvador     67"
      ]
     },
     "execution_count": 24,
     "metadata": {},
     "output_type": "execute_result"
    }
   ],
   "source": [
    "df.head()"
   ]
  },
  {
   "cell_type": "code",
   "execution_count": 25,
   "id": "5c3e7097-9f99-4e4a-98a5-7a3382397a17",
   "metadata": {
    "tags": []
   },
   "outputs": [],
   "source": [
    "# Create a estimated_cases table with the selected columns\n",
    "estimated_cases_table = df[['Year', 'Region', 'Country', 'Cases']].copy()\n",
    "# Add a new column 'case_id' and set it as the index\n",
    "estimated_cases_table['case_id'] = range(1, len(estimated_cases_table) + 1)\n",
    "# Reorder the columns to have 'case_id' as the first column\n",
    "estimated_cases_table = estimated_cases_table[['case_id', 'Year', 'Region', 'Country', 'Cases']]"
   ]
  },
  {
   "cell_type": "code",
   "execution_count": 26,
   "id": "c4fbe2bf-b31f-46ae-a3e0-b593457fcb63",
   "metadata": {
    "tags": []
   },
   "outputs": [
    {
     "data": {
      "text/html": [
       "<div>\n",
       "<style scoped>\n",
       "    .dataframe tbody tr th:only-of-type {\n",
       "        vertical-align: middle;\n",
       "    }\n",
       "\n",
       "    .dataframe tbody tr th {\n",
       "        vertical-align: top;\n",
       "    }\n",
       "\n",
       "    .dataframe thead th {\n",
       "        text-align: right;\n",
       "    }\n",
       "</style>\n",
       "<table border=\"1\" class=\"dataframe\">\n",
       "  <thead>\n",
       "    <tr style=\"text-align: right;\">\n",
       "      <th></th>\n",
       "      <th>case_id</th>\n",
       "      <th>Year</th>\n",
       "      <th>Region</th>\n",
       "      <th>Country</th>\n",
       "      <th>Cases</th>\n",
       "    </tr>\n",
       "  </thead>\n",
       "  <tbody>\n",
       "    <tr>\n",
       "      <th>0</th>\n",
       "      <td>1</td>\n",
       "      <td>2012</td>\n",
       "      <td>Europe</td>\n",
       "      <td>Kyrgyzstan</td>\n",
       "      <td>0</td>\n",
       "    </tr>\n",
       "    <tr>\n",
       "      <th>1</th>\n",
       "      <td>2</td>\n",
       "      <td>2008</td>\n",
       "      <td>Americas</td>\n",
       "      <td>Suriname</td>\n",
       "      <td>2086</td>\n",
       "    </tr>\n",
       "    <tr>\n",
       "      <th>2</th>\n",
       "      <td>3</td>\n",
       "      <td>2006</td>\n",
       "      <td>Americas</td>\n",
       "      <td>Ecuador</td>\n",
       "      <td>9863</td>\n",
       "    </tr>\n",
       "    <tr>\n",
       "      <th>3</th>\n",
       "      <td>4</td>\n",
       "      <td>2014</td>\n",
       "      <td>South-East Asia</td>\n",
       "      <td>Sri Lanka</td>\n",
       "      <td>0</td>\n",
       "    </tr>\n",
       "    <tr>\n",
       "      <th>4</th>\n",
       "      <td>5</td>\n",
       "      <td>2005</td>\n",
       "      <td>Americas</td>\n",
       "      <td>El Salvador</td>\n",
       "      <td>67</td>\n",
       "    </tr>\n",
       "    <tr>\n",
       "      <th>...</th>\n",
       "      <td>...</td>\n",
       "      <td>...</td>\n",
       "      <td>...</td>\n",
       "      <td>...</td>\n",
       "      <td>...</td>\n",
       "    </tr>\n",
       "    <tr>\n",
       "      <th>2367</th>\n",
       "      <td>2329</td>\n",
       "      <td>2004</td>\n",
       "      <td>South-East Asia</td>\n",
       "      <td>Bangladesh</td>\n",
       "      <td>101645</td>\n",
       "    </tr>\n",
       "    <tr>\n",
       "      <th>2368</th>\n",
       "      <td>2330</td>\n",
       "      <td>2005</td>\n",
       "      <td>South-East Asia</td>\n",
       "      <td>Bangladesh</td>\n",
       "      <td>103199</td>\n",
       "    </tr>\n",
       "    <tr>\n",
       "      <th>2369</th>\n",
       "      <td>2331</td>\n",
       "      <td>2009</td>\n",
       "      <td>South-East Asia</td>\n",
       "      <td>Bangladesh</td>\n",
       "      <td>80603</td>\n",
       "    </tr>\n",
       "    <tr>\n",
       "      <th>2370</th>\n",
       "      <td>2332</td>\n",
       "      <td>2010</td>\n",
       "      <td>Western Pacific</td>\n",
       "      <td>Vanuatu</td>\n",
       "      <td>20972</td>\n",
       "    </tr>\n",
       "    <tr>\n",
       "      <th>2371</th>\n",
       "      <td>2333</td>\n",
       "      <td>2020</td>\n",
       "      <td>South-East Asia</td>\n",
       "      <td>Nepal</td>\n",
       "      <td>244</td>\n",
       "    </tr>\n",
       "  </tbody>\n",
       "</table>\n",
       "<p>2333 rows × 5 columns</p>\n",
       "</div>"
      ],
      "text/plain": [
       "      case_id  Year           Region      Country   Cases\n",
       "0           1  2012           Europe   Kyrgyzstan       0\n",
       "1           2  2008         Americas     Suriname    2086\n",
       "2           3  2006         Americas      Ecuador    9863\n",
       "3           4  2014  South-East Asia    Sri Lanka       0\n",
       "4           5  2005         Americas  El Salvador      67\n",
       "...       ...   ...              ...          ...     ...\n",
       "2367     2329  2004  South-East Asia   Bangladesh  101645\n",
       "2368     2330  2005  South-East Asia   Bangladesh  103199\n",
       "2369     2331  2009  South-East Asia   Bangladesh   80603\n",
       "2370     2332  2010  Western Pacific      Vanuatu   20972\n",
       "2371     2333  2020  South-East Asia        Nepal     244\n",
       "\n",
       "[2333 rows x 5 columns]"
      ]
     },
     "execution_count": 26,
     "metadata": {},
     "output_type": "execute_result"
    }
   ],
   "source": [
    "estimated_cases_table"
   ]
  }
 ],
 "metadata": {
  "kernelspec": {
   "display_name": "Python 3 (ipykernel)",
   "language": "python",
   "name": "python3"
  },
  "language_info": {
   "codemirror_mode": {
    "name": "ipython",
    "version": 3
   },
   "file_extension": ".py",
   "mimetype": "text/x-python",
   "name": "python",
   "nbconvert_exporter": "python",
   "pygments_lexer": "ipython3",
   "version": "3.11.5"
  }
 },
 "nbformat": 4,
 "nbformat_minor": 5
}

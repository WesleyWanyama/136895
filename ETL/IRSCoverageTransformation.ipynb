{
 "cells": [
  {
   "cell_type": "code",
   "execution_count": 1,
   "id": "9afb54c5-1b9a-4e61-8762-ffa407a336d7",
   "metadata": {
    "tags": []
   },
   "outputs": [],
   "source": [
    "#Importing the required libraries\n",
    "import pandas as pd\n",
    "import numpy as np\n",
    "import matplotlib.pyplot as plt"
   ]
  },
  {
   "cell_type": "code",
   "execution_count": 2,
   "id": "a0a85e68-b12a-48a7-b845-d6a983cfa7d2",
   "metadata": {
    "tags": []
   },
   "outputs": [],
   "source": [
    "#Loading the dataset\n",
    "df = pd.read_csv(\"data/MALARIA_IRS_COVERAGE.csv\")"
   ]
  },
  {
   "cell_type": "code",
   "execution_count": 3,
   "id": "5b8cd2f2-6d58-43ac-8c42-b0b27094e2b1",
   "metadata": {
    "tags": []
   },
   "outputs": [
    {
     "data": {
      "text/html": [
       "<div>\n",
       "<style scoped>\n",
       "    .dataframe tbody tr th:only-of-type {\n",
       "        vertical-align: middle;\n",
       "    }\n",
       "\n",
       "    .dataframe tbody tr th {\n",
       "        vertical-align: top;\n",
       "    }\n",
       "\n",
       "    .dataframe thead th {\n",
       "        text-align: right;\n",
       "    }\n",
       "</style>\n",
       "<table border=\"1\" class=\"dataframe\">\n",
       "  <thead>\n",
       "    <tr style=\"text-align: right;\">\n",
       "      <th></th>\n",
       "      <th>GHO (CODE)</th>\n",
       "      <th>GHO (DISPLAY)</th>\n",
       "      <th>GHO (URL)</th>\n",
       "      <th>PUBLISHSTATE (CODE)</th>\n",
       "      <th>PUBLISHSTATE (DISPLAY)</th>\n",
       "      <th>PUBLISHSTATE (URL)</th>\n",
       "      <th>YEAR (CODE)</th>\n",
       "      <th>YEAR (DISPLAY)</th>\n",
       "      <th>YEAR (URL)</th>\n",
       "      <th>REGION (CODE)</th>\n",
       "      <th>...</th>\n",
       "      <th>COUNTRY (CODE)</th>\n",
       "      <th>COUNTRY (DISPLAY)</th>\n",
       "      <th>COUNTRY (URL)</th>\n",
       "      <th>Display Value</th>\n",
       "      <th>Numeric</th>\n",
       "      <th>Low</th>\n",
       "      <th>High</th>\n",
       "      <th>StdErr</th>\n",
       "      <th>StdDev</th>\n",
       "      <th>Comments</th>\n",
       "    </tr>\n",
       "  </thead>\n",
       "  <tbody>\n",
       "    <tr>\n",
       "      <th>0</th>\n",
       "      <td>MALARIA_IRS_COVERAGE</td>\n",
       "      <td>Number of people protected from malaria by ind...</td>\n",
       "      <td>https://www.who.int/data/gho/indicator-metadat...</td>\n",
       "      <td>PUBLISHED</td>\n",
       "      <td>Published</td>\n",
       "      <td>NaN</td>\n",
       "      <td>2018</td>\n",
       "      <td>2018</td>\n",
       "      <td>NaN</td>\n",
       "      <td>AFR</td>\n",
       "      <td>...</td>\n",
       "      <td>AGO</td>\n",
       "      <td>Angola</td>\n",
       "      <td>NaN</td>\n",
       "      <td>NaN</td>\n",
       "      <td>NaN</td>\n",
       "      <td>NaN</td>\n",
       "      <td>NaN</td>\n",
       "      <td>NaN</td>\n",
       "      <td>NaN</td>\n",
       "      <td>NaN</td>\n",
       "    </tr>\n",
       "    <tr>\n",
       "      <th>1</th>\n",
       "      <td>MALARIA_IRS_COVERAGE</td>\n",
       "      <td>Number of people protected from malaria by ind...</td>\n",
       "      <td>https://www.who.int/data/gho/indicator-metadat...</td>\n",
       "      <td>PUBLISHED</td>\n",
       "      <td>Published</td>\n",
       "      <td>NaN</td>\n",
       "      <td>2019</td>\n",
       "      <td>2019</td>\n",
       "      <td>NaN</td>\n",
       "      <td>AFR</td>\n",
       "      <td>...</td>\n",
       "      <td>AGO</td>\n",
       "      <td>Angola</td>\n",
       "      <td>NaN</td>\n",
       "      <td>NaN</td>\n",
       "      <td>NaN</td>\n",
       "      <td>NaN</td>\n",
       "      <td>NaN</td>\n",
       "      <td>NaN</td>\n",
       "      <td>NaN</td>\n",
       "      <td>NaN</td>\n",
       "    </tr>\n",
       "    <tr>\n",
       "      <th>2</th>\n",
       "      <td>MALARIA_IRS_COVERAGE</td>\n",
       "      <td>Number of people protected from malaria by ind...</td>\n",
       "      <td>https://www.who.int/data/gho/indicator-metadat...</td>\n",
       "      <td>PUBLISHED</td>\n",
       "      <td>Published</td>\n",
       "      <td>NaN</td>\n",
       "      <td>2020</td>\n",
       "      <td>2020</td>\n",
       "      <td>NaN</td>\n",
       "      <td>AFR</td>\n",
       "      <td>...</td>\n",
       "      <td>AGO</td>\n",
       "      <td>Angola</td>\n",
       "      <td>NaN</td>\n",
       "      <td>44 633</td>\n",
       "      <td>44633.0</td>\n",
       "      <td>NaN</td>\n",
       "      <td>NaN</td>\n",
       "      <td>NaN</td>\n",
       "      <td>NaN</td>\n",
       "      <td>NaN</td>\n",
       "    </tr>\n",
       "    <tr>\n",
       "      <th>3</th>\n",
       "      <td>MALARIA_IRS_COVERAGE</td>\n",
       "      <td>Number of people protected from malaria by ind...</td>\n",
       "      <td>https://www.who.int/data/gho/indicator-metadat...</td>\n",
       "      <td>PUBLISHED</td>\n",
       "      <td>Published</td>\n",
       "      <td>NaN</td>\n",
       "      <td>2018</td>\n",
       "      <td>2018</td>\n",
       "      <td>NaN</td>\n",
       "      <td>AFR</td>\n",
       "      <td>...</td>\n",
       "      <td>BDI</td>\n",
       "      <td>Burundi</td>\n",
       "      <td>NaN</td>\n",
       "      <td>1 754 679</td>\n",
       "      <td>1754679.0</td>\n",
       "      <td>NaN</td>\n",
       "      <td>NaN</td>\n",
       "      <td>NaN</td>\n",
       "      <td>NaN</td>\n",
       "      <td>NaN</td>\n",
       "    </tr>\n",
       "    <tr>\n",
       "      <th>4</th>\n",
       "      <td>MALARIA_IRS_COVERAGE</td>\n",
       "      <td>Number of people protected from malaria by ind...</td>\n",
       "      <td>https://www.who.int/data/gho/indicator-metadat...</td>\n",
       "      <td>PUBLISHED</td>\n",
       "      <td>Published</td>\n",
       "      <td>NaN</td>\n",
       "      <td>2019</td>\n",
       "      <td>2019</td>\n",
       "      <td>NaN</td>\n",
       "      <td>AFR</td>\n",
       "      <td>...</td>\n",
       "      <td>BDI</td>\n",
       "      <td>Burundi</td>\n",
       "      <td>NaN</td>\n",
       "      <td>725 449</td>\n",
       "      <td>725449.0</td>\n",
       "      <td>NaN</td>\n",
       "      <td>NaN</td>\n",
       "      <td>NaN</td>\n",
       "      <td>NaN</td>\n",
       "      <td>NaN</td>\n",
       "    </tr>\n",
       "  </tbody>\n",
       "</table>\n",
       "<p>5 rows × 22 columns</p>\n",
       "</div>"
      ],
      "text/plain": [
       "             GHO (CODE)                                      GHO (DISPLAY)  \\\n",
       "0  MALARIA_IRS_COVERAGE  Number of people protected from malaria by ind...   \n",
       "1  MALARIA_IRS_COVERAGE  Number of people protected from malaria by ind...   \n",
       "2  MALARIA_IRS_COVERAGE  Number of people protected from malaria by ind...   \n",
       "3  MALARIA_IRS_COVERAGE  Number of people protected from malaria by ind...   \n",
       "4  MALARIA_IRS_COVERAGE  Number of people protected from malaria by ind...   \n",
       "\n",
       "                                           GHO (URL) PUBLISHSTATE (CODE)  \\\n",
       "0  https://www.who.int/data/gho/indicator-metadat...           PUBLISHED   \n",
       "1  https://www.who.int/data/gho/indicator-metadat...           PUBLISHED   \n",
       "2  https://www.who.int/data/gho/indicator-metadat...           PUBLISHED   \n",
       "3  https://www.who.int/data/gho/indicator-metadat...           PUBLISHED   \n",
       "4  https://www.who.int/data/gho/indicator-metadat...           PUBLISHED   \n",
       "\n",
       "  PUBLISHSTATE (DISPLAY)  PUBLISHSTATE (URL)  YEAR (CODE)  YEAR (DISPLAY)  \\\n",
       "0              Published                 NaN         2018            2018   \n",
       "1              Published                 NaN         2019            2019   \n",
       "2              Published                 NaN         2020            2020   \n",
       "3              Published                 NaN         2018            2018   \n",
       "4              Published                 NaN         2019            2019   \n",
       "\n",
       "   YEAR (URL) REGION (CODE)  ... COUNTRY (CODE)  COUNTRY (DISPLAY)  \\\n",
       "0         NaN           AFR  ...            AGO             Angola   \n",
       "1         NaN           AFR  ...            AGO             Angola   \n",
       "2         NaN           AFR  ...            AGO             Angola   \n",
       "3         NaN           AFR  ...            BDI            Burundi   \n",
       "4         NaN           AFR  ...            BDI            Burundi   \n",
       "\n",
       "  COUNTRY (URL) Display Value    Numeric Low  High  StdErr  StdDev  Comments  \n",
       "0           NaN           NaN        NaN NaN   NaN     NaN     NaN       NaN  \n",
       "1           NaN           NaN        NaN NaN   NaN     NaN     NaN       NaN  \n",
       "2           NaN        44 633    44633.0 NaN   NaN     NaN     NaN       NaN  \n",
       "3           NaN     1 754 679  1754679.0 NaN   NaN     NaN     NaN       NaN  \n",
       "4           NaN       725 449   725449.0 NaN   NaN     NaN     NaN       NaN  \n",
       "\n",
       "[5 rows x 22 columns]"
      ]
     },
     "execution_count": 3,
     "metadata": {},
     "output_type": "execute_result"
    }
   ],
   "source": [
    "df.head()"
   ]
  },
  {
   "cell_type": "code",
   "execution_count": 4,
   "id": "0771c728-3e15-4678-a80a-f9c73ac5333e",
   "metadata": {
    "tags": []
   },
   "outputs": [
    {
     "data": {
      "text/html": [
       "<div>\n",
       "<style scoped>\n",
       "    .dataframe tbody tr th:only-of-type {\n",
       "        vertical-align: middle;\n",
       "    }\n",
       "\n",
       "    .dataframe tbody tr th {\n",
       "        vertical-align: top;\n",
       "    }\n",
       "\n",
       "    .dataframe thead th {\n",
       "        text-align: right;\n",
       "    }\n",
       "</style>\n",
       "<table border=\"1\" class=\"dataframe\">\n",
       "  <thead>\n",
       "    <tr style=\"text-align: right;\">\n",
       "      <th></th>\n",
       "      <th>PUBLISHSTATE (URL)</th>\n",
       "      <th>YEAR (CODE)</th>\n",
       "      <th>YEAR (DISPLAY)</th>\n",
       "      <th>YEAR (URL)</th>\n",
       "      <th>REGION (URL)</th>\n",
       "      <th>COUNTRY (URL)</th>\n",
       "      <th>Numeric</th>\n",
       "      <th>Low</th>\n",
       "      <th>High</th>\n",
       "      <th>StdErr</th>\n",
       "      <th>StdDev</th>\n",
       "      <th>Comments</th>\n",
       "    </tr>\n",
       "  </thead>\n",
       "  <tbody>\n",
       "    <tr>\n",
       "      <th>count</th>\n",
       "      <td>0.0</td>\n",
       "      <td>273.000000</td>\n",
       "      <td>273.000000</td>\n",
       "      <td>0.0</td>\n",
       "      <td>0.0</td>\n",
       "      <td>0.0</td>\n",
       "      <td>1.740000e+02</td>\n",
       "      <td>0.0</td>\n",
       "      <td>0.0</td>\n",
       "      <td>0.0</td>\n",
       "      <td>0.0</td>\n",
       "      <td>0.0</td>\n",
       "    </tr>\n",
       "    <tr>\n",
       "      <th>mean</th>\n",
       "      <td>NaN</td>\n",
       "      <td>2019.000000</td>\n",
       "      <td>2019.000000</td>\n",
       "      <td>NaN</td>\n",
       "      <td>NaN</td>\n",
       "      <td>NaN</td>\n",
       "      <td>1.588653e+06</td>\n",
       "      <td>NaN</td>\n",
       "      <td>NaN</td>\n",
       "      <td>NaN</td>\n",
       "      <td>NaN</td>\n",
       "      <td>NaN</td>\n",
       "    </tr>\n",
       "    <tr>\n",
       "      <th>std</th>\n",
       "      <td>NaN</td>\n",
       "      <td>0.817996</td>\n",
       "      <td>0.817996</td>\n",
       "      <td>NaN</td>\n",
       "      <td>NaN</td>\n",
       "      <td>NaN</td>\n",
       "      <td>4.249719e+06</td>\n",
       "      <td>NaN</td>\n",
       "      <td>NaN</td>\n",
       "      <td>NaN</td>\n",
       "      <td>NaN</td>\n",
       "      <td>NaN</td>\n",
       "    </tr>\n",
       "    <tr>\n",
       "      <th>min</th>\n",
       "      <td>NaN</td>\n",
       "      <td>2018.000000</td>\n",
       "      <td>2018.000000</td>\n",
       "      <td>NaN</td>\n",
       "      <td>NaN</td>\n",
       "      <td>NaN</td>\n",
       "      <td>1.550000e+02</td>\n",
       "      <td>NaN</td>\n",
       "      <td>NaN</td>\n",
       "      <td>NaN</td>\n",
       "      <td>NaN</td>\n",
       "      <td>NaN</td>\n",
       "    </tr>\n",
       "    <tr>\n",
       "      <th>25%</th>\n",
       "      <td>NaN</td>\n",
       "      <td>2018.000000</td>\n",
       "      <td>2018.000000</td>\n",
       "      <td>NaN</td>\n",
       "      <td>NaN</td>\n",
       "      <td>NaN</td>\n",
       "      <td>6.039025e+04</td>\n",
       "      <td>NaN</td>\n",
       "      <td>NaN</td>\n",
       "      <td>NaN</td>\n",
       "      <td>NaN</td>\n",
       "      <td>NaN</td>\n",
       "    </tr>\n",
       "    <tr>\n",
       "      <th>50%</th>\n",
       "      <td>NaN</td>\n",
       "      <td>2019.000000</td>\n",
       "      <td>2019.000000</td>\n",
       "      <td>NaN</td>\n",
       "      <td>NaN</td>\n",
       "      <td>NaN</td>\n",
       "      <td>2.315855e+05</td>\n",
       "      <td>NaN</td>\n",
       "      <td>NaN</td>\n",
       "      <td>NaN</td>\n",
       "      <td>NaN</td>\n",
       "      <td>NaN</td>\n",
       "    </tr>\n",
       "    <tr>\n",
       "      <th>75%</th>\n",
       "      <td>NaN</td>\n",
       "      <td>2020.000000</td>\n",
       "      <td>2020.000000</td>\n",
       "      <td>NaN</td>\n",
       "      <td>NaN</td>\n",
       "      <td>NaN</td>\n",
       "      <td>1.422543e+06</td>\n",
       "      <td>NaN</td>\n",
       "      <td>NaN</td>\n",
       "      <td>NaN</td>\n",
       "      <td>NaN</td>\n",
       "      <td>NaN</td>\n",
       "    </tr>\n",
       "    <tr>\n",
       "      <th>max</th>\n",
       "      <td>NaN</td>\n",
       "      <td>2020.000000</td>\n",
       "      <td>2020.000000</td>\n",
       "      <td>NaN</td>\n",
       "      <td>NaN</td>\n",
       "      <td>NaN</td>\n",
       "      <td>3.429089e+07</td>\n",
       "      <td>NaN</td>\n",
       "      <td>NaN</td>\n",
       "      <td>NaN</td>\n",
       "      <td>NaN</td>\n",
       "      <td>NaN</td>\n",
       "    </tr>\n",
       "  </tbody>\n",
       "</table>\n",
       "</div>"
      ],
      "text/plain": [
       "       PUBLISHSTATE (URL)  YEAR (CODE)  YEAR (DISPLAY)  YEAR (URL)  \\\n",
       "count                 0.0   273.000000      273.000000         0.0   \n",
       "mean                  NaN  2019.000000     2019.000000         NaN   \n",
       "std                   NaN     0.817996        0.817996         NaN   \n",
       "min                   NaN  2018.000000     2018.000000         NaN   \n",
       "25%                   NaN  2018.000000     2018.000000         NaN   \n",
       "50%                   NaN  2019.000000     2019.000000         NaN   \n",
       "75%                   NaN  2020.000000     2020.000000         NaN   \n",
       "max                   NaN  2020.000000     2020.000000         NaN   \n",
       "\n",
       "       REGION (URL)  COUNTRY (URL)       Numeric  Low  High  StdErr  StdDev  \\\n",
       "count           0.0            0.0  1.740000e+02  0.0   0.0     0.0     0.0   \n",
       "mean            NaN            NaN  1.588653e+06  NaN   NaN     NaN     NaN   \n",
       "std             NaN            NaN  4.249719e+06  NaN   NaN     NaN     NaN   \n",
       "min             NaN            NaN  1.550000e+02  NaN   NaN     NaN     NaN   \n",
       "25%             NaN            NaN  6.039025e+04  NaN   NaN     NaN     NaN   \n",
       "50%             NaN            NaN  2.315855e+05  NaN   NaN     NaN     NaN   \n",
       "75%             NaN            NaN  1.422543e+06  NaN   NaN     NaN     NaN   \n",
       "max             NaN            NaN  3.429089e+07  NaN   NaN     NaN     NaN   \n",
       "\n",
       "       Comments  \n",
       "count       0.0  \n",
       "mean        NaN  \n",
       "std         NaN  \n",
       "min         NaN  \n",
       "25%         NaN  \n",
       "50%         NaN  \n",
       "75%         NaN  \n",
       "max         NaN  "
      ]
     },
     "execution_count": 4,
     "metadata": {},
     "output_type": "execute_result"
    }
   ],
   "source": [
    "df.describe()"
   ]
  },
  {
   "cell_type": "code",
   "execution_count": 5,
   "id": "fa4f3367-8cf1-44a4-84f6-b08fe95a6e37",
   "metadata": {
    "tags": []
   },
   "outputs": [
    {
     "name": "stdout",
     "output_type": "stream",
     "text": [
      "<class 'pandas.core.frame.DataFrame'>\n",
      "RangeIndex: 273 entries, 0 to 272\n",
      "Data columns (total 22 columns):\n",
      " #   Column                  Non-Null Count  Dtype  \n",
      "---  ------                  --------------  -----  \n",
      " 0   GHO (CODE)              273 non-null    object \n",
      " 1   GHO (DISPLAY)           273 non-null    object \n",
      " 2   GHO (URL)               273 non-null    object \n",
      " 3   PUBLISHSTATE (CODE)     273 non-null    object \n",
      " 4   PUBLISHSTATE (DISPLAY)  273 non-null    object \n",
      " 5   PUBLISHSTATE (URL)      0 non-null      float64\n",
      " 6   YEAR (CODE)             273 non-null    int64  \n",
      " 7   YEAR (DISPLAY)          273 non-null    int64  \n",
      " 8   YEAR (URL)              0 non-null      float64\n",
      " 9   REGION (CODE)           273 non-null    object \n",
      " 10  REGION (DISPLAY)        273 non-null    object \n",
      " 11  REGION (URL)            0 non-null      float64\n",
      " 12  COUNTRY (CODE)          273 non-null    object \n",
      " 13  COUNTRY (DISPLAY)       273 non-null    object \n",
      " 14  COUNTRY (URL)           0 non-null      float64\n",
      " 15  Display Value           174 non-null    object \n",
      " 16  Numeric                 174 non-null    float64\n",
      " 17  Low                     0 non-null      float64\n",
      " 18  High                    0 non-null      float64\n",
      " 19  StdErr                  0 non-null      float64\n",
      " 20  StdDev                  0 non-null      float64\n",
      " 21  Comments                0 non-null      float64\n",
      "dtypes: float64(10), int64(2), object(10)\n",
      "memory usage: 47.1+ KB\n"
     ]
    }
   ],
   "source": [
    "df.info()"
   ]
  },
  {
   "cell_type": "code",
   "execution_count": 6,
   "id": "62818311-cf5b-4920-b3b6-c89e13cbdffd",
   "metadata": {
    "tags": []
   },
   "outputs": [
    {
     "data": {
      "text/plain": [
       "Index(['GHO (CODE)', 'GHO (DISPLAY)', 'GHO (URL)', 'PUBLISHSTATE (CODE)',\n",
       "       'PUBLISHSTATE (DISPLAY)', 'PUBLISHSTATE (URL)', 'YEAR (CODE)',\n",
       "       'YEAR (DISPLAY)', 'YEAR (URL)', 'REGION (CODE)', 'REGION (DISPLAY)',\n",
       "       'REGION (URL)', 'COUNTRY (CODE)', 'COUNTRY (DISPLAY)', 'COUNTRY (URL)',\n",
       "       'Display Value', 'Numeric', 'Low', 'High', 'StdErr', 'StdDev',\n",
       "       'Comments'],\n",
       "      dtype='object')"
      ]
     },
     "execution_count": 6,
     "metadata": {},
     "output_type": "execute_result"
    }
   ],
   "source": [
    "df.columns"
   ]
  },
  {
   "cell_type": "code",
   "execution_count": 8,
   "id": "cdc04fc5-3dcc-4a90-b142-113f323240e0",
   "metadata": {
    "tags": []
   },
   "outputs": [],
   "source": [
    "#Specify the columns that are to be dropped\n",
    "columns_to_drop = ['GHO (CODE)', 'GHO (DISPLAY)', 'GHO (URL)', 'PUBLISHSTATE (CODE)', 'PUBLISHSTATE (DISPLAY)', 'PUBLISHSTATE (URL)', 'YEAR (CODE)', 'YEAR (URL)', 'REGION (CODE)', 'REGION (URL)', 'COUNTRY (CODE)', 'COUNTRY (URL)', 'Display Value', 'Low', 'High', 'StdErr', 'StdDev', 'Comments']"
   ]
  },
  {
   "cell_type": "code",
   "execution_count": 9,
   "id": "715ca730-04a8-4723-a087-2ceab9bd0cec",
   "metadata": {
    "tags": []
   },
   "outputs": [],
   "source": [
    "#Drop the specified columns and create a new dataframe\n",
    "df = df[[col for col in df.columns if col not in columns_to_drop]]"
   ]
  },
  {
   "cell_type": "code",
   "execution_count": 10,
   "id": "325861fc-6b2c-435c-ad0f-56c492786e19",
   "metadata": {
    "tags": []
   },
   "outputs": [
    {
     "data": {
      "text/plain": [
       "Index(['YEAR (DISPLAY)', 'REGION (DISPLAY)', 'COUNTRY (DISPLAY)', 'Numeric'], dtype='object')"
      ]
     },
     "execution_count": 10,
     "metadata": {},
     "output_type": "execute_result"
    }
   ],
   "source": [
    "#Confirming the columns have been dropped\n",
    "df.columns"
   ]
  },
  {
   "cell_type": "code",
   "execution_count": 11,
   "id": "534ef1d6-345f-41f1-b6a7-3c8e68b81368",
   "metadata": {
    "tags": []
   },
   "outputs": [
    {
     "name": "stdout",
     "output_type": "stream",
     "text": [
      "<class 'pandas.core.frame.DataFrame'>\n",
      "RangeIndex: 273 entries, 0 to 272\n",
      "Data columns (total 4 columns):\n",
      " #   Column             Non-Null Count  Dtype  \n",
      "---  ------             --------------  -----  \n",
      " 0   YEAR (DISPLAY)     273 non-null    int64  \n",
      " 1   REGION (DISPLAY)   273 non-null    object \n",
      " 2   COUNTRY (DISPLAY)  273 non-null    object \n",
      " 3   Numeric            174 non-null    float64\n",
      "dtypes: float64(1), int64(1), object(2)\n",
      "memory usage: 8.7+ KB\n"
     ]
    }
   ],
   "source": [
    "df.info()"
   ]
  },
  {
   "cell_type": "code",
   "execution_count": 12,
   "id": "b9622dc6-a71f-4803-838a-7de72dcf1312",
   "metadata": {
    "tags": []
   },
   "outputs": [],
   "source": [
    "# Removing rows with null values. Here the Numeric column has the null values\n",
    "df.dropna(subset=['Numeric'], inplace=True)"
   ]
  },
  {
   "cell_type": "code",
   "execution_count": 13,
   "id": "f2e50dda-4617-4de1-b4b7-ca1da46a6434",
   "metadata": {
    "tags": []
   },
   "outputs": [
    {
     "name": "stdout",
     "output_type": "stream",
     "text": [
      "<class 'pandas.core.frame.DataFrame'>\n",
      "Int64Index: 174 entries, 2 to 269\n",
      "Data columns (total 4 columns):\n",
      " #   Column             Non-Null Count  Dtype  \n",
      "---  ------             --------------  -----  \n",
      " 0   YEAR (DISPLAY)     174 non-null    int64  \n",
      " 1   REGION (DISPLAY)   174 non-null    object \n",
      " 2   COUNTRY (DISPLAY)  174 non-null    object \n",
      " 3   Numeric            174 non-null    float64\n",
      "dtypes: float64(1), int64(1), object(2)\n",
      "memory usage: 6.8+ KB\n"
     ]
    }
   ],
   "source": [
    "df.info()"
   ]
  },
  {
   "cell_type": "code",
   "execution_count": 22,
   "id": "1cb47570-5f3e-4fc6-b1ea-48025b13088c",
   "metadata": {
    "tags": []
   },
   "outputs": [],
   "source": [
    "# Create a dictionary to specify the mapping of old column names to new column names\n",
    "column_mapping = {\n",
    "    'YEAR (DISPLAY)': 'Year',\n",
    "    'REGION (DISPLAY)': 'Region',\n",
    "    'COUNTRY (DISPLAY)': 'Country',\n",
    "    'Numeric': 'People Protected',\n",
    "}\n",
    "\n",
    "# Use the rename() function to rename the columns\n",
    "df.rename(columns=column_mapping, inplace=True)"
   ]
  },
  {
   "cell_type": "code",
   "execution_count": 23,
   "id": "0260ac05-60d5-4c02-8812-d9638c72d435",
   "metadata": {
    "tags": []
   },
   "outputs": [
    {
     "name": "stdout",
     "output_type": "stream",
     "text": [
      "<class 'pandas.core.frame.DataFrame'>\n",
      "Int64Index: 174 entries, 2 to 269\n",
      "Data columns (total 4 columns):\n",
      " #   Column                   Non-Null Count  Dtype  \n",
      "---  ------                   --------------  -----  \n",
      " 0   Year                     174 non-null    int64  \n",
      " 1   Region                   174 non-null    object \n",
      " 2   Country                  174 non-null    object \n",
      " 3   People Protected by IRS  174 non-null    float64\n",
      "dtypes: float64(1), int64(1), object(2)\n",
      "memory usage: 6.8+ KB\n"
     ]
    }
   ],
   "source": [
    "df.info()"
   ]
  },
  {
   "cell_type": "code",
   "execution_count": 24,
   "id": "35d5026f-87da-47c8-8768-bf3d6049dff6",
   "metadata": {
    "tags": []
   },
   "outputs": [],
   "source": [
    "# Create a dictionary to specify the mapping of old column names to new column names\n",
    "column_mapping = {\n",
    "    'YEAR (DISPLAY)': 'Year',\n",
    "    'REGION (DISPLAY)': 'Region',\n",
    "    'COUNTRY (DISPLAY)': 'Country',\n",
    "    'People Protected by IRS': 'People Protected',\n",
    "}\n",
    "\n",
    "# Use the rename() function to rename the columns\n",
    "df.rename(columns=column_mapping, inplace=True)"
   ]
  },
  {
   "cell_type": "code",
   "execution_count": 25,
   "id": "f13ddca2-3b03-4870-bc1f-9f0f935c496a",
   "metadata": {
    "tags": []
   },
   "outputs": [
    {
     "name": "stdout",
     "output_type": "stream",
     "text": [
      "<class 'pandas.core.frame.DataFrame'>\n",
      "Int64Index: 174 entries, 2 to 269\n",
      "Data columns (total 4 columns):\n",
      " #   Column            Non-Null Count  Dtype  \n",
      "---  ------            --------------  -----  \n",
      " 0   Year              174 non-null    int64  \n",
      " 1   Region            174 non-null    object \n",
      " 2   Country           174 non-null    object \n",
      " 3   People Protected  174 non-null    float64\n",
      "dtypes: float64(1), int64(1), object(2)\n",
      "memory usage: 6.8+ KB\n"
     ]
    }
   ],
   "source": [
    "df.info()"
   ]
  },
  {
   "cell_type": "code",
   "execution_count": 26,
   "id": "ec96f3c3-6ec5-4edb-8556-f0b67843daf8",
   "metadata": {
    "tags": []
   },
   "outputs": [],
   "source": [
    "# Convert 'Year' to datetime\n",
    "df['Year'] = pd.to_datetime(df['Year'], format='%Y')\n",
    "df['Year'] = df['Year'].dt.year"
   ]
  },
  {
   "cell_type": "code",
   "execution_count": 27,
   "id": "d137dc07-54c2-4c49-bcdd-f96b93c5dc2f",
   "metadata": {
    "tags": []
   },
   "outputs": [],
   "source": [
    "# Use astype to convert the \"People Protected\" column to an integer\n",
    "df['People Protected'] = df['People Protected'].astype(int)"
   ]
  },
  {
   "cell_type": "code",
   "execution_count": 28,
   "id": "f649ce85-7222-4e47-ac31-54be837e4878",
   "metadata": {
    "tags": []
   },
   "outputs": [
    {
     "data": {
      "text/html": [
       "<div>\n",
       "<style scoped>\n",
       "    .dataframe tbody tr th:only-of-type {\n",
       "        vertical-align: middle;\n",
       "    }\n",
       "\n",
       "    .dataframe tbody tr th {\n",
       "        vertical-align: top;\n",
       "    }\n",
       "\n",
       "    .dataframe thead th {\n",
       "        text-align: right;\n",
       "    }\n",
       "</style>\n",
       "<table border=\"1\" class=\"dataframe\">\n",
       "  <thead>\n",
       "    <tr style=\"text-align: right;\">\n",
       "      <th></th>\n",
       "      <th>Year</th>\n",
       "      <th>Region</th>\n",
       "      <th>Country</th>\n",
       "      <th>People Protected</th>\n",
       "    </tr>\n",
       "  </thead>\n",
       "  <tbody>\n",
       "    <tr>\n",
       "      <th>2</th>\n",
       "      <td>2020</td>\n",
       "      <td>Africa</td>\n",
       "      <td>Angola</td>\n",
       "      <td>44633</td>\n",
       "    </tr>\n",
       "    <tr>\n",
       "      <th>3</th>\n",
       "      <td>2018</td>\n",
       "      <td>Africa</td>\n",
       "      <td>Burundi</td>\n",
       "      <td>1754679</td>\n",
       "    </tr>\n",
       "    <tr>\n",
       "      <th>4</th>\n",
       "      <td>2019</td>\n",
       "      <td>Africa</td>\n",
       "      <td>Burundi</td>\n",
       "      <td>725449</td>\n",
       "    </tr>\n",
       "    <tr>\n",
       "      <th>5</th>\n",
       "      <td>2020</td>\n",
       "      <td>Africa</td>\n",
       "      <td>Burundi</td>\n",
       "      <td>1243848</td>\n",
       "    </tr>\n",
       "    <tr>\n",
       "      <th>6</th>\n",
       "      <td>2018</td>\n",
       "      <td>Africa</td>\n",
       "      <td>Benin</td>\n",
       "      <td>1321758</td>\n",
       "    </tr>\n",
       "  </tbody>\n",
       "</table>\n",
       "</div>"
      ],
      "text/plain": [
       "   Year  Region  Country  People Protected\n",
       "2  2020  Africa   Angola             44633\n",
       "3  2018  Africa  Burundi           1754679\n",
       "4  2019  Africa  Burundi            725449\n",
       "5  2020  Africa  Burundi           1243848\n",
       "6  2018  Africa    Benin           1321758"
      ]
     },
     "execution_count": 28,
     "metadata": {},
     "output_type": "execute_result"
    }
   ],
   "source": [
    "df.head()"
   ]
  },
  {
   "cell_type": "code",
   "execution_count": 29,
   "id": "3f207e1b-6fa8-491b-9ec7-2542aefdb18a",
   "metadata": {
    "tags": []
   },
   "outputs": [],
   "source": [
    "# Create a irs_coverage_cases table with the selected columns\n",
    "irs_coverage_table = df[['Year', 'Region', 'Country', 'People Protected']].copy()\n",
    "# Add a new column 'coverage_id' and set it as the index\n",
    "irs_coverage_table['coverage_id'] = range(1, len(irs_coverage_table) + 1)\n",
    "# Reorder the columns to have 'case_id' as the first column\n",
    "irs_coverage_table = irs_coverage_table[['coverage_id', 'Year', 'Region', 'Country', 'People Protected']]"
   ]
  },
  {
   "cell_type": "code",
   "execution_count": 30,
   "id": "2bdb9561-793f-461c-a219-986fb935ad7b",
   "metadata": {
    "tags": []
   },
   "outputs": [
    {
     "data": {
      "text/html": [
       "<div>\n",
       "<style scoped>\n",
       "    .dataframe tbody tr th:only-of-type {\n",
       "        vertical-align: middle;\n",
       "    }\n",
       "\n",
       "    .dataframe tbody tr th {\n",
       "        vertical-align: top;\n",
       "    }\n",
       "\n",
       "    .dataframe thead th {\n",
       "        text-align: right;\n",
       "    }\n",
       "</style>\n",
       "<table border=\"1\" class=\"dataframe\">\n",
       "  <thead>\n",
       "    <tr style=\"text-align: right;\">\n",
       "      <th></th>\n",
       "      <th>coverage_id</th>\n",
       "      <th>Year</th>\n",
       "      <th>Region</th>\n",
       "      <th>Country</th>\n",
       "      <th>People Protected</th>\n",
       "    </tr>\n",
       "  </thead>\n",
       "  <tbody>\n",
       "    <tr>\n",
       "      <th>2</th>\n",
       "      <td>1</td>\n",
       "      <td>2020</td>\n",
       "      <td>Africa</td>\n",
       "      <td>Angola</td>\n",
       "      <td>44633</td>\n",
       "    </tr>\n",
       "    <tr>\n",
       "      <th>3</th>\n",
       "      <td>2</td>\n",
       "      <td>2018</td>\n",
       "      <td>Africa</td>\n",
       "      <td>Burundi</td>\n",
       "      <td>1754679</td>\n",
       "    </tr>\n",
       "    <tr>\n",
       "      <th>4</th>\n",
       "      <td>3</td>\n",
       "      <td>2019</td>\n",
       "      <td>Africa</td>\n",
       "      <td>Burundi</td>\n",
       "      <td>725449</td>\n",
       "    </tr>\n",
       "    <tr>\n",
       "      <th>5</th>\n",
       "      <td>4</td>\n",
       "      <td>2020</td>\n",
       "      <td>Africa</td>\n",
       "      <td>Burundi</td>\n",
       "      <td>1243848</td>\n",
       "    </tr>\n",
       "    <tr>\n",
       "      <th>6</th>\n",
       "      <td>5</td>\n",
       "      <td>2018</td>\n",
       "      <td>Africa</td>\n",
       "      <td>Benin</td>\n",
       "      <td>1321758</td>\n",
       "    </tr>\n",
       "    <tr>\n",
       "      <th>...</th>\n",
       "      <td>...</td>\n",
       "      <td>...</td>\n",
       "      <td>...</td>\n",
       "      <td>...</td>\n",
       "      <td>...</td>\n",
       "    </tr>\n",
       "    <tr>\n",
       "      <th>260</th>\n",
       "      <td>170</td>\n",
       "      <td>2020</td>\n",
       "      <td>Western Pacific</td>\n",
       "      <td>Philippines</td>\n",
       "      <td>476804</td>\n",
       "    </tr>\n",
       "    <tr>\n",
       "      <th>263</th>\n",
       "      <td>171</td>\n",
       "      <td>2020</td>\n",
       "      <td>Western Pacific</td>\n",
       "      <td>Papua New Guinea</td>\n",
       "      <td>200</td>\n",
       "    </tr>\n",
       "    <tr>\n",
       "      <th>267</th>\n",
       "      <td>172</td>\n",
       "      <td>2018</td>\n",
       "      <td>Western Pacific</td>\n",
       "      <td>Viet Nam</td>\n",
       "      <td>319866</td>\n",
       "    </tr>\n",
       "    <tr>\n",
       "      <th>268</th>\n",
       "      <td>173</td>\n",
       "      <td>2019</td>\n",
       "      <td>Western Pacific</td>\n",
       "      <td>Viet Nam</td>\n",
       "      <td>696751</td>\n",
       "    </tr>\n",
       "    <tr>\n",
       "      <th>269</th>\n",
       "      <td>174</td>\n",
       "      <td>2020</td>\n",
       "      <td>Western Pacific</td>\n",
       "      <td>Viet Nam</td>\n",
       "      <td>433405</td>\n",
       "    </tr>\n",
       "  </tbody>\n",
       "</table>\n",
       "<p>174 rows × 5 columns</p>\n",
       "</div>"
      ],
      "text/plain": [
       "     coverage_id  Year           Region           Country  People Protected\n",
       "2              1  2020           Africa            Angola             44633\n",
       "3              2  2018           Africa           Burundi           1754679\n",
       "4              3  2019           Africa           Burundi            725449\n",
       "5              4  2020           Africa           Burundi           1243848\n",
       "6              5  2018           Africa             Benin           1321758\n",
       "..           ...   ...              ...               ...               ...\n",
       "260          170  2020  Western Pacific       Philippines            476804\n",
       "263          171  2020  Western Pacific  Papua New Guinea               200\n",
       "267          172  2018  Western Pacific          Viet Nam            319866\n",
       "268          173  2019  Western Pacific          Viet Nam            696751\n",
       "269          174  2020  Western Pacific          Viet Nam            433405\n",
       "\n",
       "[174 rows x 5 columns]"
      ]
     },
     "execution_count": 30,
     "metadata": {},
     "output_type": "execute_result"
    }
   ],
   "source": [
    "irs_coverage_table"
   ]
  }
 ],
 "metadata": {
  "kernelspec": {
   "display_name": "Python 3 (ipykernel)",
   "language": "python",
   "name": "python3"
  },
  "language_info": {
   "codemirror_mode": {
    "name": "ipython",
    "version": 3
   },
   "file_extension": ".py",
   "mimetype": "text/x-python",
   "name": "python",
   "nbconvert_exporter": "python",
   "pygments_lexer": "ipython3",
   "version": "3.11.5"
  }
 },
 "nbformat": 4,
 "nbformat_minor": 5
}
